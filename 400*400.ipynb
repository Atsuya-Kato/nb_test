{
 "cells": [
  {
   "cell_type": "code",
   "execution_count": null,
   "metadata": {
    "collapsed": false
   },
   "outputs": [],
   "source": [
    "import os, sys, json, glob\n",
    "import numpy as np\n",
    "import matplotlib.pyplot as plt\n",
    "from datetime import datetime as dt\n",
    "from matplotlib import animation, rc\n",
    "from IPython.display import HTML\n",
    "\n",
    "from elecpy.simulator_monodomain import MonodomainSimulator\n",
    "from elecpy.util.cmap_bipolar import bipolar\n",
    "from elecpy.util.loader import Loader\n"
   ]
  },
  {
   "cell_type": "code",
   "execution_count": null,
   "metadata": {
    "collapsed": false
   },
   "outputs": [],
   "source": [
    "sim_params= {'cell_type': 'mahajan',\n",
    "  'geometory': {'ds': 0.015, 'height': 200, 'width': 200},\n",
    "  'log': {'cnt': 200,\n",
    "   'path': '/mnt/Omer/Project/07.DeepElectrodeMapping/kato/2019_0806_1'},\n",
    "   #'mask': {'c_brugada': '/mnt/Omer/Project/02.CumulativePhaseVariance/mask/pattern_pac_90-90_55-55_(1.4,-0.4).npy',\n",
    "   #'sw_it': '/mnt/Omer/Project/02.CumulativePhaseVariance/mask/ablation_18-22_0-20.npy'},\n",
    "   'restart': {'count': 3000,\n",
    "   'source': '/mnt/Omer/Project/02.CumulativePhaseVariance/SimulationResults/20190624-1459_05/'},\n",
    "  'stimulation': {},\n",
    "  'time': {'end': 200, 'udt': 0.005}}"
   ]
  },
  {
   "cell_type": "code",
   "execution_count": null,
   "metadata": {
    "collapsed": false
   },
   "outputs": [],
   "source": [
    "step = MonodomainSimulator(sim_params).step()\n",
    "out=[]\n",
    "while True:\n",
    "        img = step.next()\n",
    "        if img is False: break\n",
    "        if img.max() < -80: \n",
    "            print(\"SW terminated!\")\n",
    "            break\n",
    "        out.append(np.copy(img))\n",
    "del(step)"
   ]
  },
  {
   "cell_type": "code",
   "execution_count": null,
   "metadata": {
    "collapsed": false
   },
   "outputs": [],
   "source": [
    "fig = plt.figure()\n",
    "plt.axis('off')\n",
    "\n",
    "ims = []\n",
    "for img in out:\n",
    "    im = plt.imshow(\n",
    "        img.reshape(200,200),\n",
    "        vmin = -100.0, vmax = 20.0,\n",
    "        cmap=bipolar(neutral=0, lutsize=1024),\n",
    "        interpolation='nearest')\n",
    "    ims.append([im])\n",
    "\n",
    "ani = animation.ArtistAnimation(fig, ims)\n",
    "#ani.save('anim.gif', writer=\"imagemagick\")\n",
    "#ani.save('anim.mp4', writer=\"ffmpeg\")\n",
    "#plt.show()\n",
    "\n",
    "HTML(ani.to_html5_video())"
   ]
  },
  {
   "cell_type": "code",
   "execution_count": null,
   "metadata": {
    "collapsed": true
   },
   "outputs": [],
   "source": [
    "sim_params= {'cell_type': 'mahajan',\n",
    "  'geometory': {'ds': 0.015, 'height': 400, 'width': 400},\n",
    "  'log': {'cnt': 200,\n",
    "   'path': '/mnt/Omer/Project/07.DeepElectrodeMapping/kato/2019_0806_2'},\n",
    "   #'mask': {'c_brugada': '/mnt/Omer/Project/02.CumulativePhaseVariance/mask/pattern_pac_90-90_55-55_(1.4,-0.4).npy',\n",
    "   #'sw_it': '/mnt/Omer/Project/02.CumulativePhaseVariance/mask/ablation_18-22_0-20.npy'},\n",
    "   'restart': {'count': 3000,\n",
    "   'source': '/mnt/Omer/Project/02.CumulativePhaseVariance/SimulationResults/20190624-1459_05/'},\n",
    "  'stimulation': {},\n",
    "  'time': {'end': 200, 'udt': 0.005}}"
   ]
  },
  {
   "cell_type": "code",
   "execution_count": null,
   "metadata": {
    "collapsed": false
   },
   "outputs": [],
   "source": [
    "step = MonodomainSimulator(sim_params).step()\n",
    "out=[]\n",
    "while True:\n",
    "        img = step.next()\n",
    "        if img is False: break\n",
    "        if img.max() < -80: \n",
    "            print(\"SW terminated!\")\n",
    "            break\n",
    "        out.append(np.copy(img))\n",
    "del(step)"
   ]
  },
  {
   "cell_type": "code",
   "execution_count": 4,
   "metadata": {
    "collapsed": false
   },
   "outputs": [],
   "source": [
    " sim_params= {'cell_type': 'mahajan',\n",
    "  'geometory': {'ds': 0.015, 'height': 400, 'width': 400},\n",
    "  'log': {'cnt': 200,\n",
    "   'path': '/mnt/Omer/Project/07.DeepElectrodeMapping/kato/2019_0806_2'},\n",
    "    'stimulation': {'membrane': [{'amplitude': 20.0,\n",
    "     'duration': 5.0,\n",
    "     'interval': 300,\n",
    "     'name': 'edge_L',\n",
    "     'shape': [400, 400],\n",
    "     'size': 5,\n",
    "     'start': 0,\n",
    "     'train': 10}]},\n",
    "  'time': {u'end': 300, u'udt': 0.005}}"
   ]
  },
  {
   "cell_type": "code",
   "execution_count": 5,
   "metadata": {
    "collapsed": false
   },
   "outputs": [
    {
     "name": "stdout",
     "output_type": "stream",
     "text": [
      "elecpy simulation start!\n",
      "Stimulation settings ...done\n",
      "Allocating data... ...done\n",
      "Initializing data... ...done\n",
      "Mask settings... ...done\n",
      "Building PDE system ... ...done\n",
      "Main loop start!\n",
      "------------------1.0/300mserror : invalid value nan @ 1.0 ms, index 0\n",
      "elecpy done\n"
     ]
    }
   ],
   "source": [
    "step = MonodomainSimulator(sim_params).step()\n",
    "out=[]\n",
    "while True:\n",
    "        img = step.next()\n",
    "        if img is False: break\n",
    "        out.append(np.copy(img))\n",
    "del(step)"
   ]
  },
  {
   "cell_type": "code",
   "execution_count": null,
   "metadata": {
    "collapsed": true
   },
   "outputs": [],
   "source": []
  }
 ],
 "metadata": {
  "kernelspec": {
   "display_name": "Python 2",
   "language": "python",
   "name": "python2"
  },
  "language_info": {
   "codemirror_mode": {
    "name": "ipython",
    "version": 2
   },
   "file_extension": ".py",
   "mimetype": "text/x-python",
   "name": "python",
   "nbconvert_exporter": "python",
   "pygments_lexer": "ipython2",
   "version": "2.7.15"
  }
 },
 "nbformat": 4,
 "nbformat_minor": 2
}
