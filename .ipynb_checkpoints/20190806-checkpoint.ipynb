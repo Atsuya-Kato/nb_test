{
 "cells": [
  {
   "cell_type": "code",
   "execution_count": 1,
   "metadata": {
    "collapsed": false
   },
   "outputs": [
    {
     "name": "stderr",
     "output_type": "stream",
     "text": [
      "pyculib:1: ImportWarning: Numba version too old; expecting 0.33.0\n"
     ]
    }
   ],
   "source": [
    "import os, sys, json, glob\n",
    "import numpy as np\n",
    "import matplotlib.pyplot as plt\n",
    "from datetime import datetime as dt\n",
    "from matplotlib import animation, rc\n",
    "from IPython.display import HTML\n",
    "\n",
    "from elecpy.simulator_monodomain import MonodomainSimulator\n",
    "from elecpy.util.cmap_bipolar import bipolar\n",
    "from elecpy.util.loader import Loader\n"
   ]
  },
  {
   "cell_type": "code",
   "execution_count": 18,
   "metadata": {
    "collapsed": false
   },
   "outputs": [],
   "source": [
    "sim_params= {'cell_type': 'mahajan',\n",
    "  'geometory': {'ds': 0.015, 'height': 200, 'width': 200},\n",
    "  'log': {'cnt': 200,\n",
    "   'path': '/mnt/Omer/Project/07.DeepElectrodeMapping/kato/2019_0806_1'},\n",
    "   #'mask': {'c_brugada': '/mnt/Omer/Project/02.CumulativePhaseVariance/mask/pattern_pac_90-90_55-55_(1.4,-0.4).npy',\n",
    "   #'sw_it': '/mnt/Omer/Project/02.CumulativePhaseVariance/mask/ablation_18-22_0-20.npy'},\n",
    "   'restart': {'count': 3000,\n",
    "   'source': '/mnt/Omer/Project/02.CumulativePhaseVariance/SimulationResults/20190624-1459_05/'},\n",
    "  'stimulation': {},\n",
    "  'time': {'end': 200, 'udt': 0.005}}"
   ]
  },
  {
   "cell_type": "code",
   "execution_count": 20,
   "metadata": {
    "collapsed": false
   },
   "outputs": [
    {
     "name": "stdout",
     "output_type": "stream",
     "text": [
      "elecpy simulation start!\n",
      "Stimulation settings ...done\n",
      "Allocating data... ...done\n",
      "Initializing data... ...done\n",
      "Mask settings... ...done\n",
      "Building PDE system ... ...done\n",
      "Main loop start!\n",
      "------------------200.0/200mselecpy done\n"
     ]
    }
   ],
   "source": [
    "step = MonodomainSimulator(sim_params).step()\n",
    "out=[]\n",
    "while True:\n",
    "        img = step.next()\n",
    "        if img is False: break\n",
    "        if img.max() < -80: \n",
    "            print(\"SW terminated!\")\n",
    "            break\n",
    "        out.append(np.copy(img))\n",
    "del(step)"
   ]
  },
  {
   "cell_type": "code",
   "execution_count": 7,
   "metadata": {
    "collapsed": false,
    "scrolled": true
   },
   "outputs": [
    {
     "data": {
      "text/html": [
       "<video width=\"600.0\" height=\"400.0\" controls autoplay loop>\n",
       "  <source type=\"video/mp4\" src=\"data:video/mp4;base64,AAAAHGZ0eXBNNFYgAAACAGlzb21pc28yYXZjMQAAAAhmcmVlAAARS21kYXQAAAKuBgX//6rcRem9\n",
       "5tlIt5Ys2CDZI+7veDI2NCAtIGNvcmUgMTQ4IHIyNjQzIDVjNjU3MDQgLSBILjI2NC9NUEVHLTQg\n",
       "QVZDIGNvZGVjIC0gQ29weWxlZnQgMjAwMy0yMDE1IC0gaHR0cDovL3d3dy52aWRlb2xhbi5vcmcv\n",
       "eDI2NC5odG1sIC0gb3B0aW9uczogY2FiYWM9MSByZWY9MyBkZWJsb2NrPTE6MDowIGFuYWx5c2U9\n",
       "MHgzOjB4MTEzIG1lPWhleCBzdWJtZT03IHBzeT0xIHBzeV9yZD0xLjAwOjAuMDAgbWl4ZWRfcmVm\n",
       "PTEgbWVfcmFuZ2U9MTYgY2hyb21hX21lPTEgdHJlbGxpcz0xIDh4OGRjdD0xIGNxbT0wIGRlYWR6\n",
       "b25lPTIxLDExIGZhc3RfcHNraXA9MSBjaHJvbWFfcXBfb2Zmc2V0PS0yIHRocmVhZHM9MTIgbG9v\n",
       "a2FoZWFkX3RocmVhZHM9MiBzbGljZWRfdGhyZWFkcz0wIG5yPTAgZGVjaW1hdGU9MSBpbnRlcmxh\n",
       "Y2VkPTAgYmx1cmF5X2NvbXBhdD0wIGNvbnN0cmFpbmVkX2ludHJhPTAgYmZyYW1lcz0zIGJfcHly\n",
       "YW1pZD0yIGJfYWRhcHQ9MSBiX2JpYXM9MCBkaXJlY3Q9MSB3ZWlnaHRiPTEgb3Blbl9nb3A9MCB3\n",
       "ZWlnaHRwPTIga2V5aW50PTI1MCBrZXlpbnRfbWluPTUgc2NlbmVjdXQ9NDAgaW50cmFfcmVmcmVz\n",
       "aD0wIHJjX2xvb2thaGVhZD00MCByYz1jcmYgbWJ0cmVlPTEgY3JmPTIzLjAgcWNvbXA9MC42MCBx\n",
       "cG1pbj0wIHFwbWF4PTY5IHFwc3RlcD00IGlwX3JhdGlvPTEuNDAgYXE9MToxLjAwAIAAAAFpZYiE\n",
       "AD///vdonwKbWkN6gOSVxSXbT4H/q2dwirg70ICAAAADAAADAAy5groLBjGPaDEAAAMCv6jwGfx1\n",
       "cIAEdhQYqYK1KSK6J1CdDrD7ksa4oTYNntSOXfolyTmj5Rn4u0sFv4khwfNKVPwDlvIryLHED3Oq\n",
       "Uk5abr78QqdFHTjT6n6WCU/YytSR2E1GpZGNehoQ0NYWPa/NY+yvJdkcLhgqhpymvnfLl6Ut/Tk2\n",
       "PXKmHQlDOjlGtzK2NblXa3KjlDJhzSSh80llOJML9yac9k3DfJyOkVU97tjc5SZnNBSqj1mj/Q+X\n",
       "RZbaVgTl4yQrllOWMQ/9gdVem0Us5Q0UJIP9rI6ppeOFXPcCaknVxjLiToYLxe/5xnTUmWkVNN4b\n",
       "nqYBrg12hJ5Nrl9c8nb6k5Q/VRkI+J1ZJQNMhOx19cGAF9SpmLCrhCajejenLhUwQCJ4k6K0uxW/\n",
       "cJaqojWYBjb0SFxEEAAEBQAAAKdBmiFsQ//+qZYAbKmXAAANZNACRbm08c0KwwCp+HPU5ZhxibKG\n",
       "2hgh4dt5XYhA9HasgeBumUlHYtojOPPDGV5L/Y4WIFmZjw6lI1xTfQ9oBdGv1/yY7/xJdSZRdSDS\n",
       "KlG9aoVm+NTnLHTFTm0/9JkDXJVjqbGEUpgkxzXgihIkzrPF4CdPzgVj7Q9hmG0d+Dx/VUfdGv4O\n",
       "ZQu6ITSf47v1NCU5HDcYkAAAAORBmkI8IZMphD///qmWAGyjgTqQG76g7uO1pQCCx9BnpI9lSFx3\n",
       "n4LsgXRR/1HIEhASd2PB3t1QBqD/GmVZMoLNuFE+y189EUglLeSl5sCx68ePdFKAdf1GZAgy0A/Q\n",
       "pYuppq8OYBsgm/WikhT5DZaoSrbgHhMtp80iT6ZzMsdMVDLZqRU7j/peecSHdC9K0PUjVMafTwbR\n",
       "lFtFEoqSSOe3RJPJvIU/O8aCsFiVNIIs9r8/jHjuGEvckLDafa++eEmE31PCEdnknJ7+DtkyFl5Q\n",
       "mVlOWOQU0UeJVivTdfCJCzOjmvcAAACdQZpjSeEPJlMCH//+qZYAbKZ1wAbqf0SDY+G8VSGmBvI4\n",
       "/UAAYF3E+/1XSD5lUk/Owq3qBtjuSk6EeSduslAf56kHFR7N+cOLcReIfdj0tWpH4ZfZlpY2mkx8\n",
       "SVo5cmtD3vR5nlAV3LxkmtjFR54SspqjZB9rI7++JLoaIVq5Hu2LwIUCMlNTLTPmgRtF21ICW3ZI\n",
       "8v17bxXa7p/jqAAAAJ9BmoRJ4Q8mUwIf//6plgBspnXACpZQaiCPl4bxg1Rq/zGYCskBwcSgA9jr\n",
       "whudZHZA2QKtyFv5juSl5uW4xb8IzLKO+j+mS2D4SoDb1MpVNJXjC+Vkm4J/URN7Iff4YxbD/GIW\n",
       "MV153nj0uCZ31wJ0IY/5D/oe+Rd+lLlRe+kMJFZ2nynqmCWzHdH1N0VKGOWrhLi9lfW5uqlq3m13\n",
       "X9UAAAB9QZqlSeEPJlMCH//+qZYAbKZ1wAqdGRJngoIPgD8pGTb/v4Nud8mBJWI4P31mdyUnQjyT\n",
       "t1koD/PUg4qPZvzhxbiLxD7selq1I/DL7MtLG00b2SlbNS3ZCeoHL+WUgTUkX+fmq3shOIaScAdq\n",
       "aQZTqs66VeZno+5Q464+FvEAAAC+QZrGSeEPJlMCH//+qZYAbJb0f5IAVPM68KOOMAzoi+5ErVO2\n",
       "0jPGBGZPOd//e6fu9rfHclLzV6pEDjuwG6cx5AmxCbMyAosbWvabBBoTL0g4bkLt1HkWC9V27KHF\n",
       "2Jc4Cg8hsn9YYHJRIItHtbV7lOIHb3TIs+9FkiyaeHoGXNLXObMw0SRMz9MzGcmGHmtqIvTNOXOu\n",
       "f0FCcMA8yen2qsvX6lApUfNPLe4QF/vLCpJkE4cYr8GKXg31H5iIwQAAAKtBmudJ4Q8mUwIf//6p\n",
       "lgBslvR90gXKnCe8v0gIiGvdf5jhdXcoiIDuOEwAQe3X6zH4/Nl4GseHLiy4Gqlx20kCIn/0JIox\n",
       "7ul2uJdRe4xOOQMU9B0N+tnkRV6kGd+4xVklihCxR7r6S9HhdDtzYvW9JZHnXv+bLRUOHw1w0FRY\n",
       "VBjs7FrEDEECXK2H9wVxn3LW4qwzNHUhNTG61/eCjj/o8+xuWsElIPhf+6EAAACzQZsISeEPJlMC\n",
       "H//+qZYAbJb0fpSA7vqGYyHip15bZI6/1rp8ctAcC3Ol5mpzuLh6l4G1OwXjdRK7AvyiKB2a1x78\n",
       "cGowSoowxAUsmUwYeocdMvW5rcRxq5DQ2s8ugek954/+tzrJ9yT2OyXY1b9gQjXPh1uuhaVmZRrS\n",
       "Tzsaca8zK1CgFMWCNRk0ThybGUILenLEVxwTINN+hCBkyoe5XL8nljyX58CJGevucUcs4dy2M4AA\n",
       "AACVQZspSeEPJlMCH//+qZYAbJb0f5IAO/Z7kXqgCwEFK8W2asyJWYXcS+QFb9M+c1/bLwLJ0D5S\n",
       "f3J1oHn/EuNdNR7l9S4rCJ9TqlpX8YPLis2WsTG11i+6ElO0cXb0s9pD87Py/X/KRp4YomYfK67l\n",
       "xxWVkeHxbYjh2j17xs5nex1lc2buAnnH/JfbK/902URT748IsigAAACoQZtKSeEPJlMCH//+qZYA\n",
       "bKZ9aAcKcLtsWkrCeECbbFXuZ7rYVs4GIwv6Hr9vqGnFAbDrgAk2n7Qqki9xv57tvAY7Q/CnPWJF\n",
       "ckpi9aq/uSkPyQt7j2YcNVgdY8ITeNR4F66CuIsWMzoEGiL/kF9yyH2MLAKL5Flh1cpfjFpwLwKI\n",
       "spwLBzdbVx77J238/yrpAw5/FYl4GjkiJg/cPxTc0vYwsAqFRbO1AAAAkUGba0nhDyZTAh///qmW\n",
       "AGyW9HkZ0YBwAd+JXxDEQUh3YnYqzwGvBGBfetd1EXhyROTLtk/LArQuHWrfEuB94+a4gqM9UhPc\n",
       "Gqis50R+36RTODVlbG6WDQuBARo60kC+fnfFMoFgLTg2YJlH2Tr5szLvatL12BWAwTvrtdzp7kUC\n",
       "zQK2W/vkkIw4WFkACZMspo4AAACkQZuMSeEPJlMCH//+qZYAbKZ/cAEkKMPkbohEHczK8wDr7eEb\n",
       "xHv/o4P/1jzL0Gr2scCeesvEM0/zx5d5OlXohu5xFvzCR3MaS1smEZxE9po8KyeH3fsM6ypNUYey\n",
       "uZlQjepikKhREE0CL3bqEN6Sy/YDZ3Npi6rSH/Rf/SmiR5TBU8Y9JjucqVn+ZTakagxCRMYnettt\n",
       "5oFKij9dY2PJK0shq8AAAACPQZutSeEPJlMCH//+qZYAbJb0eRr4kL5qvQAboS190NFupD4mPNdf\n",
       "fobVhRJ1q8jbwvpU/3jTi/utMBeIvlcekIOGnvLU4PV7XkZqf53Qx1iCiTp1Ew8WOCn08NATVsk6\n",
       "yLVwHLd5cTV0bhkbDV1aMQQ1IcqIq0pZa9FozOChiZ3NtNnBe7WnQ1XS0u200fEAAACZQZvOSeEP\n",
       "JlMCH//+qZYAakHsHJdUpN4AGTpH7X6wXxpngwSNe1FCmeR9mvC9xbOkhaQza00F/qg9TsWe2vK9\n",
       "oNsqYUtg2hjlqGmWVZX8RPGq6VkE2jnqhnyxyKQ+6YnJ56YBqtuYBZbSav8dcCMBmI4rFL9rzZnX\n",
       "57FTsM55ME/4Zhccu9TxjtkCZbRQWUbNjY7Q5yzD/3hZAAAArEGb70nhDyZTAh///qmWAGyW9HP6\n",
       "AVIgCs6wjD91Joh7fVKgz3MASdEqP1DqCHBx/tB0U8W4NxqRZgEVHnxhgTUxOgkyHn+8whovK/vS\n",
       "hxv+xFcMhtGxnUqQGbLEZa2UNEe0/y8Uf237BssqJ/gr8tB2VMCZ3lqJ3dxTKGVUXHz6TmY5tFJX\n",
       "ScZLmJyMuZEyCup9FhnfZVqy2u9UFai7ftAIelrTjYjY8CK8skEAAACJQZoQSeEPJlMCH//+qZYA\n",
       "aiK4YkaaFzEYe18QA0QqB3YC/9Gv1VtDKCr/4ZX9JZcOGIT0d5UrGK3M3ik0g9nEu0kIljacx5aD\n",
       "Ulu1ytX1j64xkD2Mphwf6CpZ5Aj5SI/djkZJLsFIzUtx4fhh4ItphmvgV5uBn+DR/uDe9uvHj0Ae\n",
       "ADvfH/O/hoAAAACjQZoxSeEPJlMCH//+qZYAapKFHYqWqSccAErFCCDkzHOs9RAdwPCEwfKwXzGl\n",
       "ZqrSviK/54NIkCAl+YhjmdKmkxuhAGk+TPcE8QzpEpAUT21ASFUFP17o4K0nEJFJ/NnrrM2WXMKo\n",
       "c0+mEy/JvRGbHDQgO481+mB7XLXFAKp069OucHVRsP+BVCOCjh8JAKZr40QPKfkaMUphshH9smR0\n",
       "AJ9dLAAAALBBmlJJ4Q8mUwIf//6plgBnrQoRweGnQAtKaIDuP+MvaAtb1GPqxqs5w/8p/4Tb8TOq\n",
       "RglYv73uxVsbzTvsqXGD8NeOpvEO+AkGfF5eElswdUCRCo0ZLsaM6x2ubTpEZ+jocR117RAdzwhp\n",
       "zoPiPRq9DzLzL0BiwMIc1YCWKAso6dUVnfX3IC8xUerp2ES1gAgX6DajC5yfLI9XxswVXAc2qO6B\n",
       "DvLn13AbfLb9YFmboQAAAL9BmnNJ4Q8mUwIf//6plgBno4CMQEthACVFKtdvyrHsiqRf3n7Qooup\n",
       "w/9V8FWaXH/8isvpoiA4AJWd+JISEMsDDQbmu8cYasX/3NmWJX6lVvj7WIG4IbPw2Xve5X6vXxi9\n",
       "cGwu8HpOF4jooHnrtFI/Hymju2Sy9YAYU7vQiPhNwcV1GOTMRz+4oI9W9HOo+hVjjmmQbSP+/nhU\n",
       "rOKiw/g4ecn5djekj0f/dvPewKChsRnypYOmxlmQX9tXkopYoAAAAJNBmpRJ4Q8mUwIf//6plgBn\n",
       "orhjIqwQLkLAA1QrKYF9ysM3133CAGo4jGl243eY66+PCbfWLpCeUgTu6418tULg0MpWoSjEnYk/\n",
       "3INOqETcNmV26XmWp3bRoER7L4w0U4uBYaeJAvCv3QPT/Aglk78rA4Gw9nkkSrJiK34TOcdt4H49\n",
       "7SZUFV5hYn3WBWUu/02LWhAAAAOLbW9vdgAAAGxtdmhkAAAAAAAAAAAAAAAAAAAD6AAAEGgAAQAA\n",
       "AQAAAAAAAAAAAAAAAAEAAAAAAAAAAAAAAAAAAAABAAAAAAAAAAAAAAAAAABAAAAAAAAAAAAAAAAA\n",
       "AAAAAAAAAAAAAAAAAAAAAAAAAgAAArV0cmFrAAAAXHRraGQAAAADAAAAAAAAAAAAAAABAAAAAAAA\n",
       "EGgAAAAAAAAAAAAAAAAAAAAAAAEAAAAAAAAAAAAAAAAAAAABAAAAAAAAAAAAAAAAAABAAAAAAlgA\n",
       "AAGQAAAAAAAkZWR0cwAAABxlbHN0AAAAAAAAAAEAABBoAAAQAAABAAAAAAItbWRpYQAAACBtZGhk\n",
       "AAAAAAAAAAAAAAAAAAAoAAAAqABVxAAAAAAALWhkbHIAAAAAAAAAAHZpZGUAAAAAAAAAAAAAAABW\n",
       "aWRlb0hhbmRsZXIAAAAB2G1pbmYAAAAUdm1oZAAAAAEAAAAAAAAAAAAAACRkaW5mAAAAHGRyZWYA\n",
       "AAAAAAAAAQAAAAx1cmwgAAAAAQAAAZhzdGJsAAAAtHN0c2QAAAAAAAAAAQAAAKRhdmMxAAAAAAAA\n",
       "AAEAAAAAAAAAAAAAAAAAAAAAAlgBkABIAAAASAAAAAAAAAABAAAAAAAAAAAAAAAAAAAAAAAAAAAA\n",
       "AAAAAAAAAAAAAAAAGP//AAAAMmF2Y0MBZAAW/+EAGWdkABas2UCYM+XhAAADAAEAAAMACg8WLZYB\n",
       "AAZo6+PLIsAAAAAcdXVpZGtoQPJfJE/FujmlG88DI/MAAAAAAAAAGHN0dHMAAAAAAAAAAQAAABUA\n",
       "AAgAAAAAFHN0c3MAAAAAAAAAAQAAAAEAAAAYY3R0cwAAAAAAAAABAAAAFQAAEAAAAAAcc3RzYwAA\n",
       "AAAAAAABAAAAAQAAABUAAAABAAAAaHN0c3oAAAAAAAAAAAAAABUAAAQfAAAAqwAAAOgAAAChAAAA\n",
       "owAAAIEAAADCAAAArwAAALcAAACZAAAArAAAAJUAAACoAAAAkwAAAJ0AAACwAAAAjQAAAKcAAAC0\n",
       "AAAAwwAAAJcAAAAUc3RjbwAAAAAAAAABAAAALAAAAGJ1ZHRhAAAAWm1ldGEAAAAAAAAAIWhkbHIA\n",
       "AAAAAAAAAG1kaXJhcHBsAAAAAAAAAAAAAAAALWlsc3QAAAAlqXRvbwAAAB1kYXRhAAAAAQAAAABM\n",
       "YXZmNTYuNDAuMTAx\n",
       "\">\n",
       "  Your browser does not support the video tag.\n",
       "</video>"
      ],
      "text/plain": [
       "<IPython.core.display.HTML object>"
      ]
     },
     "execution_count": 7,
     "metadata": {},
     "output_type": "execute_result"
    }
   ],
   "source": [
    "fig = plt.figure()\n",
    "plt.axis('off')\n",
    "\n",
    "ims = []\n",
    "for img in out:\n",
    "    im = plt.imshow(\n",
    "        img.reshape(400,400),\n",
    "        vmin = -100.0, vmax = 20.0,\n",
    "        cmap=bipolar(neutral=0, lutsize=1024),\n",
    "        interpolation='nearest')\n",
    "    ims.append([im])\n",
    "\n",
    "ani = animation.ArtistAnimation(fig, ims)\n",
    "#ani.save('anim.gif', writer=\"imagemagick\")\n",
    "#ani.save('anim.mp4', writer=\"ffmpeg\")\n",
    "#plt.show()\n",
    "\n",
    "HTML(ani.to_html5_video())"
   ]
  },
  {
   "cell_type": "code",
   "execution_count": null,
   "metadata": {
    "collapsed": true
   },
   "outputs": [],
   "source": [
    "sim_params= {'cell_type': 'mahajan',\n",
    "  'geometory': {'ds': 0.015, 'height': 400, 'width': 400},\n",
    "  'log': {'cnt': 200,\n",
    "   'path': '/mnt/Omer/Project/07.DeepElectrodeMapping/kato/2019_0806_2'},\n",
    "   #'mask': {'c_brugada': '/mnt/Omer/Project/02.CumulativePhaseVariance/mask/pattern_pac_90-90_55-55_(1.4,-0.4).npy',\n",
    "   #'sw_it': '/mnt/Omer/Project/02.CumulativePhaseVariance/mask/ablation_18-22_0-20.npy'},\n",
    "   'restart': {'count': 3000,\n",
    "   'source': '/mnt/Omer/Project/02.CumulativePhaseVariance/SimulationResults/20190624-1459_05/'},\n",
    "  'stimulation': {},\n",
    "  'time': {'end': 200, 'udt': 0.005}}"
   ]
  },
  {
   "cell_type": "code",
   "execution_count": null,
   "metadata": {
    "collapsed": false
   },
   "outputs": [],
   "source": [
    "step = MonodomainSimulator(sim_params).step()\n",
    "out=[]\n",
    "while True:\n",
    "        img = step.next()\n",
    "        if img is False: break\n",
    "        if img.max() < -80: \n",
    "            print(\"SW terminated!\")\n",
    "            break\n",
    "        out.append(np.copy(img))\n",
    "del(step)"
   ]
  },
  {
   "cell_type": "code",
   "execution_count": 5,
   "metadata": {
    "collapsed": false
   },
   "outputs": [],
   "source": [
    "sim_params= {\n",
    "    'cell_type': 'mahajan',\n",
    "    'geometory': {\n",
    "        'ds': 0.015, 'height': 400, 'width': 400\n",
    "    },\n",
    "    'log': {\n",
    "        'cnt': 200,\n",
    "        'path': '/mnt/Omer/Project/07.DeepElectrodeMapping/kato/2019_0806_2'\n",
    "    },\n",
    "    'stimulation': {'membrane': [\n",
    "            {\n",
    "                'amplitude': 20.0,\n",
    "                'duration': 5.0,\n",
    "                'interval': 300,\n",
    "                'name': 'edge_L',\n",
    "                'shape': [400, 400],\n",
    "                'size': 5,\n",
    "                'start': 0,\n",
    "                'train': 10\n",
    "            },\n",
    "            {\n",
    "                'amplitude': 20.0,\n",
    "                'duration': 5.0,\n",
    "                'interval': 300,\n",
    "                'name': 'edge_B',\n",
    "                'shape': [400, 400],\n",
    "                'size': 200,\n",
    "                'start': 0,\n",
    "                'train': 1\n",
    "            }\n",
    "        ]\n",
    "    },\n",
    "    'time': {\n",
    "        u'end': 20,\n",
    "        u'udt': 0.005\n",
    "    }\n",
    "}"
   ]
  },
  {
   "cell_type": "code",
   "execution_count": 6,
   "metadata": {
    "collapsed": false
   },
   "outputs": [
    {
     "name": "stdout",
     "output_type": "stream",
     "text": [
      "elecpy simulation start!\n",
      "Stimulation settings ...done\n",
      "Allocating data... ...done\n",
      "Initializing data... ...done\n",
      "Mask settings... ...done\n",
      "Building PDE system ... ...done\n",
      "Main loop start!\n",
      "------------------20.0/20mselecpy done\n"
     ]
    }
   ],
   "source": [
    "step = MonodomainSimulator(sim_params).step()\n",
    "out=[]\n",
    "while True:\n",
    "    img = step.next()\n",
    "    if img is False: break\n",
    "    out.append(np.copy(img))\n",
    "del(step)"
   ]
  }
 ],
 "metadata": {
  "kernelspec": {
   "display_name": "Python 2",
   "language": "python",
   "name": "python2"
  },
  "language_info": {
   "codemirror_mode": {
    "name": "ipython",
    "version": 2
   },
   "file_extension": ".py",
   "mimetype": "text/x-python",
   "name": "python",
   "nbconvert_exporter": "python",
   "pygments_lexer": "ipython2",
   "version": "2.7.15"
  }
 },
 "nbformat": 4,
 "nbformat_minor": 2
}
