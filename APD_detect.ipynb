{
 "cells": [
  {
   "cell_type": "code",
   "execution_count": 1,
   "metadata": {
    "collapsed": false
   },
   "outputs": [
    {
     "name": "stderr",
     "output_type": "stream",
     "text": [
      "pyculib:1: ImportWarning: Numba version too old; expecting 0.33.0\n"
     ]
    }
   ],
   "source": [
    "#!/usr/local/bin/python\n",
    "\n",
    "import os, sys\n",
    "import json\n",
    "import numpy as np\n",
    "import matplotlib.pyplot as plt\n",
    "import chainer\n",
    "from chainer import cuda\n",
    "from matplotlib import animation\n",
    "from optparse import OptionParser\n",
    "\n",
    "from elecpy.util.cmap_bipolar import bipolar\n",
    "import elecpy.elecpy as elp\n",
    "\n",
    "from matplotlib import animation, rc\n",
    "from IPython.display import HTML\n",
    "\n",
    "import time\n",
    "from scipy.interpolate import interp1d\n",
    "%matplotlib inline\n",
    "\n"
   ]
  },
  {
   "cell_type": "code",
   "execution_count": 2,
   "metadata": {
    "collapsed": false
   },
   "outputs": [
    {
     "data": {
      "image/png": "[encoded data removed]",
      "text/plain": [
       "<matplotlib.figure.Figure at 0x7fdaf032bd90>"
      ]
     },
     "metadata": {},
     "output_type": "display_data"
    }
   ],
   "source": [
    "import h5py\n",
    "input_file = \"./test/courtmanche/400pacing_ilca*0.5_ikur*3.0_amp-20/out.h5\"\n",
    "with h5py.File(input_file,\"r\") as h5file:\n",
    "\n",
    "    start=100\n",
    "    dur=3000\n",
    "    \n",
    "\n",
    "    v=np.zeros(dur)\n",
    "    for i in range(1,dur-1):\n",
    "        a  = h5file[\"{0:0>5}/v\".format(i+start)].value \n",
    "        #ti = np.arange(0,100.,1)\n",
    "        #ax_v.plot(ti,v,'o')\n",
    "        plt.xlim([0,500])\n",
    "        plt.ylim([-90,120])\n",
    "        v[i]=a\n",
    "\n",
    "    time=np.arange(0,dur,1)\n",
    "    plt.plot(time,v)\n",
    "    plt.show()\n"
   ]
  },
  {
   "cell_type": "code",
   "execution_count": 3,
   "metadata": {
    "collapsed": false
   },
   "outputs": [
    {
     "data": {
      "text/plain": [
       "array([  0.        , -62.08012106, -62.5649228 , ..., -83.296391  ,\n",
       "       -83.29792897,   0.        ])"
      ]
     },
     "execution_count": 3,
     "metadata": {},
     "output_type": "execute_result"
    }
   ],
   "source": [
    "data = v\n",
    "data"
   ]
  },
  {
   "cell_type": "code",
   "execution_count": 4,
   "metadata": {
    "collapsed": false
   },
   "outputs": [
    {
     "name": "stdout",
     "output_type": "stream",
     "text": [
      "('x', array([   0,    1,    2, ..., 2997, 2998, 2999]))\n",
      "('v', array([  0.        , -62.08012106, -62.5649228 , ..., -83.296391  ,\n",
      "       -83.29792897,   0.        ]))\n"
     ]
    }
   ],
   "source": [
    "print('x',np.arange(len(data)))\n",
    "print('v',np.asarray(data))"
   ]
  },
  {
   "cell_type": "code",
   "execution_count": 5,
   "metadata": {
    "collapsed": false
   },
   "outputs": [
    {
     "ename": "IndentationError",
     "evalue": "unindent does not match any outer indentation level (<ipython-input-5-f924a0a81f6d>, line 39)",
     "output_type": "error",
     "traceback": [
      "\u001b[0;36m  File \u001b[0;32m\"<ipython-input-5-f924a0a81f6d>\"\u001b[0;36m, line \u001b[0;32m39\u001b[0m\n\u001b[0;31m    else:\u001b[0m\n\u001b[0m         \n^\u001b[0m\n\u001b[0;31mIndentationError\u001b[0m\u001b[0;31m:\u001b[0m unindent does not match any outer indentation level\n"
     ]
    }
   ],
   "source": [
    "is_active = 1\n",
    "APD_value = 0\n",
    "maxtab = []\n",
    "mintab = []\n",
    "x = np.arange(len(data))\n",
    "v = np.asarray(data)\n",
    "mn, mx = np.Inf, -np.Inf\n",
    "mnpos, mxpos = np.NaN, np.NaN\n",
    "lookformax = True\n",
    "for k in np.arange(len(v)):\n",
    "    this = v[k]\n",
    "    if this > mx:\n",
    "        mx = this\n",
    "        mxpos = x[k]\n",
    "    if this < mn:\n",
    "        mn = this\n",
    "        mnpos = x[k]\n",
    "    if lookformax:\n",
    "        if this < mx-4:   ##mx-OO で検知する厳しさを設定\n",
    "            maxtab.append((mxpos, mx))\n",
    "            mn = this\n",
    "            mnpos = x[k]\n",
    "            lookformax = False\n",
    "    else :\n",
    "        if this > mn+4:\n",
    "            mintab.append((mnpos, mn))\n",
    "            mx = this\n",
    "            mxpos = x[k]\n",
    "            lookformax = True\n",
    "maxtab = np.array(maxtab)\n",
    "mintab = np.array(mintab)\n",
    "\n",
    "if len(maxtab) < 4 or len(mintab) < 4:\n",
    "      pass\n",
    "else:\n",
    "      if maxtab[0, 0] <= mintab[0,0]:\n",
    "            \n",
    "            APD_start = maxtab[1, 0]\n",
    "    　else:\n",
    "        　APD_start = maxtab[0, 0]\n",
    "           \n",
    "      if maxtab[-1, 0] >= mintab[-1, 0]:\n",
    "          APD_end = mintab[-2, 0]\n",
    "      else:\n",
    "          APD_end = mintab[-1, 0]\n",
    "      x_range = np.arange(0, int(APD_end)-int(APD_start), 1)\n",
    "      max_y = np.mean(maxtab, axis=0)[1]\n",
    "      min_y = np.mean(mintab, axis=0)[1]\n",
    "      APD_50 = min_y + (max_y - min_y) * 0.5\n",
    "      APD_90 = min_y + (max_y - min_y) * 0.1\n",
    "      for k in range(x_range[0], x_range[-1]-1):\n",
    "          start_time = filter(lambda x:x<=k, maxtab[:, 0])[-1]\n",
    "          if is_active:\n",
    "              if data[k] >= APD_90[k-x_range[0]] and data[k+1] < APD_90[k+1-x_range[0]]:\n",
    "                  start_time = k\n",
    "                  is_active = 0\n",
    "          else:\n",
    "              if data[k] <= APD_50[k-x_range[0]] and data[k+1] > APD_50[k+1-x_range[0]]:\n",
    "                  is_active = 1\n",
    "          if APD_value > 250:\n",
    "              APD_value = 0\n",
    "          data[k] = APD_value"
   ]
  },
  {
   "cell_type": "code",
   "execution_count": 25,
   "metadata": {
    "collapsed": true
   },
   "outputs": [],
   "source": [
    "is_active = 1\n",
    "maxtab = []\n",
    "mintab = []\n",
    "x = np.arange(len(data))\n",
    "v = np.asarray(data)\n",
    "mn, mx = np.Inf, -np.Inf\n",
    "mnpos, mxpos = np.NaN, np.NaN\n",
    "lookformax = True\n",
    "for k in np.arange(len(v)):\n",
    "    this = v[k]\n",
    "    if this > mx:\n",
    "        mx = this\n",
    "        mxpos = x[k]\n",
    "    if this < mn:\n",
    "        mn = this\n",
    "        mnpos = x[k]\n",
    "    if lookformax:\n",
    "        if this < mx-4:   ##mx-OO で検知する厳しさを設定\n",
    "            maxtab.append((mxpos, mx))\n",
    "            mn = this\n",
    "            mnpos = x[k]\n",
    "            lookformax = False\n",
    "    else :\n",
    "        if this > mn+4:\n",
    "            mintab.append((mnpos, mn))\n",
    "            mx = this\n",
    "            mxpos = x[k]\n",
    "            lookformax = True\n",
    "maxtab = np.array(maxtab)\n",
    "mintab = np.array(mintab)\n"
   ]
  },
  {
   "cell_type": "code",
   "execution_count": 18,
   "metadata": {
    "collapsed": false
   },
   "outputs": [],
   "source": [
    "if maxtab[0, 0] <= mintab[0,0]:\n",
    "    \n",
    "    APD_start = maxtab[1,0]\n",
    "else:\n",
    "    APD_start = maxtab[0, 0]        \n",
    "if maxtab[-1, 0] >= mintab[-1, 0]:\n",
    "    APD_end = mintab[-2, 0]\n",
    "else:\n",
    "    APD_end = mintab[-1, 0]"
   ]
  },
  {
   "cell_type": "code",
   "execution_count": 19,
   "metadata": {
    "collapsed": false
   },
   "outputs": [],
   "source": [
    "x_range = np.arange(0, int(APD_end)-int(APD_start), 1)\n",
    "max_y = np.mean(maxtab, axis=0)[1]\n",
    "min_y = np.mean(mintab, axis=0)[1]\n",
    "APD_50 = min_y + (max_y - min_y) * 0.5\n",
    "APD_90 = min_y + (max_y - min_y) * 0.1"
   ]
  },
  {
   "cell_type": "code",
   "execution_count": 34,
   "metadata": {
    "collapsed": false
   },
   "outputs": [],
   "source": [
    "for k in range(x_range[0], x_range[-1]-1):\n",
    "    start_time = filter(lambda x:x<=k, maxtab[:, 0])[-1]\n",
    "    if is_active:\n",
    "        if data[k] >= APD_90 and data[k+1] < APD_90:\n",
    "            APD_value = k - start_time\n",
    "            is_active = 0\n",
    "    else:\n",
    "        if data[k] <= APD_50 and data[k+1] > APD_50:\n",
    "            is_active = 1\n",
    "    \n",
    "        "
   ]
  },
  {
   "cell_type": "code",
   "execution_count": 35,
   "metadata": {
    "collapsed": false
   },
   "outputs": [
    {
     "name": "stdout",
     "output_type": "stream",
     "text": [
      "304.0\n",
      "2998.0\n",
      "-32.1191957812\n",
      "-73.2491173125\n",
      "111.0\n"
     ]
    }
   ],
   "source": [
    "print(APD_start)\n",
    "print(APD_end)\n",
    "print(APD_50)\n",
    "print(APD_90)\n",
    "print(APD_value)"
   ]
  },
  {
   "cell_type": "code",
   "execution_count": 33,
   "metadata": {
    "collapsed": false
   },
   "outputs": [
    {
     "data": {
      "text/plain": [
       "704.0"
      ]
     },
     "execution_count": 33,
     "metadata": {},
     "output_type": "execute_result"
    }
   ],
   "source": [
    "start_time = filter(lambda x:x<=1000, maxtab[:, 0])[-1]\n",
    "start_time"
   ]
  },
  {
   "cell_type": "code",
   "execution_count": 16,
   "metadata": {
    "collapsed": false
   },
   "outputs": [
    {
     "data": {
      "text/plain": [
       "2998.0"
      ]
     },
     "execution_count": 16,
     "metadata": {},
     "output_type": "execute_result"
    }
   ],
   "source": [
    "APD_end"
   ]
  },
  {
   "cell_type": "code",
   "execution_count": 7,
   "metadata": {
    "collapsed": false
   },
   "outputs": [
    {
     "data": {
      "text/plain": [
       "array([[    0.        ,     0.        ],\n",
       "       [  304.        ,    22.16587808],\n",
       "       [  704.        ,    22.12690169],\n",
       "       [ 1104.        ,    22.05417493],\n",
       "       [ 1504.        ,    22.03564152],\n",
       "       [ 1904.        ,    22.00818998],\n",
       "       [ 2304.        ,    21.99091132],\n",
       "       [ 2704.        ,    21.96395155]])"
      ]
     },
     "execution_count": 7,
     "metadata": {},
     "output_type": "execute_result"
    }
   ],
   "source": [
    "maxtab"
   ]
  },
  {
   "cell_type": "code",
   "execution_count": 8,
   "metadata": {
    "collapsed": false
   },
   "outputs": [
    {
     "name": "stdout",
     "output_type": "stream",
     "text": [
      "19.2932061328\n"
     ]
    }
   ],
   "source": [
    "print(np.mean(maxtab, axis=0)[1])"
   ]
  },
  {
   "cell_type": "code",
   "execution_count": 69,
   "metadata": {
    "collapsed": false
   },
   "outputs": [
    {
     "name": "stdout",
     "output_type": "stream",
     "text": [
      "<scipy.interpolate.interpolate.interp1d object at 0x7f8394ef5628>\n"
     ]
    },
    {
     "data": {
      "text/plain": [
       "array([  0.00000000e+00,   2.00000000e+00,   9.00000000e+00,\n",
       "         1.01200000e+03,   2.01200000e+03,   3.01200000e+03,\n",
       "         4.05900000e+03])"
      ]
     },
     "execution_count": 69,
     "metadata": {},
     "output_type": "execute_result"
    }
   ],
   "source": [
    "maxtab[3,0]\n",
    "maxtab[-1, 0]\n",
    "x_range\n",
    "print(max_convert) \n",
    "max_y.shape\n",
    "min_y.shape\n",
    "APD_50\n",
    "maxtab[:,0]"
   ]
  },
  {
   "cell_type": "code",
   "execution_count": 9,
   "metadata": {
    "collapsed": false,
    "scrolled": true
   },
   "outputs": [
    {
     "data": {
      "text/plain": [
       "array([[  301.        ,   -83.68846019],\n",
       "       [  701.        ,   -83.64374208],\n",
       "       [ 1100.        ,   -83.60266164],\n",
       "       [ 1500.        ,   -83.56282983],\n",
       "       [ 1900.        ,   -83.52367081],\n",
       "       [ 2300.        ,   -83.48539708],\n",
       "       [ 2700.        ,   -83.44809097],\n",
       "       [ 2998.        ,   -83.29792897]])"
      ]
     },
     "execution_count": 9,
     "metadata": {},
     "output_type": "execute_result"
    }
   ],
   "source": [
    "mintab"
   ]
  },
  {
   "cell_type": "code",
   "execution_count": 10,
   "metadata": {
    "collapsed": false
   },
   "outputs": [
    {
     "ename": "NameError",
     "evalue": "name 'APD_value' is not defined",
     "output_type": "error",
     "traceback": [
      "\u001b[0;31m\u001b[0m",
      "\u001b[0;31mNameError\u001b[0mTraceback (most recent call last)",
      "\u001b[0;32m<ipython-input-10-861447efb3dc>\u001b[0m in \u001b[0;36m<module>\u001b[0;34m()\u001b[0m\n\u001b[0;32m----> 1\u001b[0;31m \u001b[0mAPD_value\u001b[0m\u001b[0;34m\u001b[0m\u001b[0m\n\u001b[0m",
      "\u001b[0;31mNameError\u001b[0m: name 'APD_value' is not defined"
     ]
    }
   ],
   "source": [
    "APD_value"
   ]
  },
  {
   "cell_type": "code",
   "execution_count": 88,
   "metadata": {
    "collapsed": false
   },
   "outputs": [
    {
     "data": {
      "text/plain": [
       "(3000,)"
      ]
     },
     "execution_count": 88,
     "metadata": {},
     "output_type": "execute_result"
    }
   ],
   "source": [
    "data.shape"
   ]
  },
  {
   "cell_type": "code",
   "execution_count": 91,
   "metadata": {
    "collapsed": false
   },
   "outputs": [
    {
     "data": {
      "text/plain": [
       "(2397,)"
      ]
     },
     "execution_count": 91,
     "metadata": {},
     "output_type": "execute_result"
    }
   ],
   "source": [
    "max_y.shape"
   ]
  },
  {
   "cell_type": "code",
   "execution_count": 92,
   "metadata": {
    "collapsed": false
   },
   "outputs": [
    {
     "data": {
      "text/plain": [
       "203"
      ]
     },
     "execution_count": 92,
     "metadata": {},
     "output_type": "execute_result"
    }
   ],
   "source": [
    "x_range[0]"
   ]
  },
  {
   "cell_type": "code",
   "execution_count": null,
   "metadata": {
    "collapsed": true
   },
   "outputs": [],
   "source": []
  },
  {
   "cell_type": "code",
   "execution_count": null,
   "metadata": {
    "collapsed": true
   },
   "outputs": [],
   "source": []
  },
  {
   "cell_type": "code",
   "execution_count": null,
   "metadata": {
    "collapsed": true
   },
   "outputs": [],
   "source": []
  },
  {
   "cell_type": "code",
   "execution_count": null,
   "metadata": {
    "collapsed": true
   },
   "outputs": [],
   "source": []
  },
  {
   "cell_type": "code",
   "execution_count": 97,
   "metadata": {
    "collapsed": true
   },
   "outputs": [],
   "source": [
    "a=np.load('/mnt/Share/ExperimentData/20190320-1/elec_pos.npy')"
   ]
  },
  {
   "cell_type": "code",
   "execution_count": 98,
   "metadata": {
    "collapsed": false
   },
   "outputs": [
    {
     "data": {
      "text/plain": [
       "array([[ 81, 195],\n",
       "       [106, 196],\n",
       "       [124, 204],\n",
       "       [162, 197],\n",
       "       [189, 196],\n",
       "       [ 71, 169],\n",
       "       [106, 167],\n",
       "       [133, 167],\n",
       "       [164, 164],\n",
       "       [190, 168],\n",
       "       [ 78, 141],\n",
       "       [107, 140],\n",
       "       [135, 140],\n",
       "       [160, 140],\n",
       "       [187, 140],\n",
       "       [ 76, 115],\n",
       "       [107, 116],\n",
       "       [132, 112],\n",
       "       [159, 114],\n",
       "       [186, 115],\n",
       "       [ 77,  88],\n",
       "       [ 96,  90],\n",
       "       [131,  87],\n",
       "       [161,  87],\n",
       "       [181,  86]], dtype=int32)"
      ]
     },
     "execution_count": 98,
     "metadata": {},
     "output_type": "execute_result"
    }
   ],
   "source": [
    "a\n"
   ]
  },
  {
   "cell_type": "code",
   "execution_count": 99,
   "metadata": {
    "collapsed": false
   },
   "outputs": [
    {
     "ename": "NameError",
     "evalue": "name 'analysis' is not defined",
     "output_type": "error",
     "traceback": [
      "\u001b[0;31m\u001b[0m",
      "\u001b[0;31mNameError\u001b[0mTraceback (most recent call last)",
      "\u001b[0;32m<ipython-input-99-49d036aaf5ab>\u001b[0m in \u001b[0;36m<module>\u001b[0;34m()\u001b[0m\n\u001b[0;32m----> 1\u001b[0;31m \u001b[0melec_img\u001b[0m \u001b[0;34m=\u001b[0m \u001b[0manalysis\u001b[0m\u001b[0;34m.\u001b[0m\u001b[0mdrawElectrodes\u001b[0m\u001b[0;34m(\u001b[0m\u001b[0ma\u001b[0m\u001b[0;34m,\u001b[0m \u001b[0mmapSize\u001b[0m\u001b[0;34m=\u001b[0m\u001b[0;34m(\u001b[0m\u001b[0;36m200\u001b[0m\u001b[0;34m,\u001b[0m \u001b[0;36m200\u001b[0m\u001b[0;34m)\u001b[0m\u001b[0;34m)\u001b[0m\u001b[0;34m\u001b[0m\u001b[0m\n\u001b[0m\u001b[1;32m      2\u001b[0m \u001b[0mplt\u001b[0m\u001b[0;34m.\u001b[0m\u001b[0mimshow\u001b[0m\u001b[0;34m(\u001b[0m\u001b[0melec_img\u001b[0m\u001b[0;34m)\u001b[0m\u001b[0;34m\u001b[0m\u001b[0m\n",
      "\u001b[0;31mNameError\u001b[0m: name 'analysis' is not defined"
     ]
    }
   ],
   "source": [
    "elec_img = analysis.drawElectrodes(a, mapSize=(200, 200))\n",
    "plt.imshow(elec_img)"
   ]
  },
  {
   "cell_type": "code",
   "execution_count": null,
   "metadata": {
    "collapsed": true
   },
   "outputs": [],
   "source": []
  }
 ],
 "metadata": {
  "kernelspec": {
   "display_name": "Python 2",
   "language": "python",
   "name": "python2"
  },
  "language_info": {
   "codemirror_mode": {
    "name": "ipython",
    "version": 2
   },
   "file_extension": ".py",
   "mimetype": "text/x-python",
   "name": "python",
   "nbconvert_exporter": "python",
   "pygments_lexer": "ipython2",
   "version": "2.7.15"
  }
 },
 "nbformat": 4,
 "nbformat_minor": 2
}
