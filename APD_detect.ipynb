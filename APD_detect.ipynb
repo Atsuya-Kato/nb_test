{
 "cells": [
  {
   "cell_type": "markdown",
   "metadata": {},
   "source": [
    "# *master dataは下\n",
    "## memo(チャネル変更済courtmanche モデル　APD評価 400 pacing)\n",
    "## APD90: 111.22±3.49 ms (n=4000 ms,9拍)"
   ]
  },
  {
   "cell_type": "code",
   "execution_count": 2,
   "metadata": {
    "collapsed": false
   },
   "outputs": [
    {
     "name": "stderr",
     "output_type": "stream",
     "text": [
      "pyculib:1: ImportWarning: Numba version too old; expecting 0.33.0\n"
     ]
    }
   ],
   "source": [
    "#!/usr/local/bin/python\n",
    "\n",
    "import os, sys\n",
    "import json\n",
    "import numpy as np\n",
    "import matplotlib.pyplot as plt\n",
    "import chainer\n",
    "from chainer import cuda\n",
    "from matplotlib import animation\n",
    "from optparse import OptionParser\n",
    "\n",
    "from elecpy.util.cmap_bipolar import bipolar\n",
    "import elecpy.elecpy as elp\n",
    "\n",
    "from matplotlib import animation, rc\n",
    "from IPython.display import HTML\n",
    "\n",
    "import time\n",
    "from scipy.interpolate import interp1d\n",
    "%matplotlib inline\n",
    "\n"
   ]
  },
  {
   "cell_type": "code",
   "execution_count": 63,
   "metadata": {
    "collapsed": false
   },
   "outputs": [
    {
     "data": {
      "image/png": "[encoded data removed]",
      "text/plain": [
       "<matplotlib.figure.Figure at 0x7f726586a650>"
      ]
     },
     "metadata": {},
     "output_type": "display_data"
    }
   ],
   "source": [
    "import h5py\n",
    "input_file = \"./test/courtmanche/400pacing_ilca*0.5_ikur*3.0_amp-20/out.h5\"\n",
    "with h5py.File(input_file,\"r\") as h5file:\n",
    "\n",
    "    start=0\n",
    "    dur=4000\n",
    "    \n",
    "\n",
    "    v=np.zeros(dur)\n",
    "    for i in range(1,dur-1):\n",
    "        a  = h5file[\"{0:0>5}/v\".format(i+start)].value \n",
    "        #ti = np.arange(0,100.,1)\n",
    "        #ax_v.plot(ti,v,'o')\n",
    "        plt.xlim([0,4000])\n",
    "        plt.ylim([-90,50])\n",
    "        v[i]=a\n",
    "\n",
    "    time=np.arange(0,dur,1)\n",
    "    plt.plot(time,v)\n",
    "    plt.show()\n"
   ]
  },
  {
   "cell_type": "code",
   "execution_count": 35,
   "metadata": {
    "collapsed": false
   },
   "outputs": [
    {
     "data": {
      "text/plain": [
       "(4000,)"
      ]
     },
     "execution_count": 35,
     "metadata": {},
     "output_type": "execute_result"
    }
   ],
   "source": [
    "data = v\n",
    "data.shape"
   ]
  },
  {
   "cell_type": "code",
   "execution_count": 36,
   "metadata": {
    "collapsed": false
   },
   "outputs": [
    {
     "name": "stdout",
     "output_type": "stream",
     "text": [
      "('x', array([   0,    1,    2, ..., 3997, 3998, 3999]))\n",
      "('v', array([  0.        , -81.45825042, -61.80914277, ..., -83.33961919,\n",
      "       -83.3404544 ,   0.        ]))\n"
     ]
    }
   ],
   "source": [
    "print('x',np.arange(len(data)))\n",
    "print('v',np.asarray(data))"
   ]
  },
  {
   "cell_type": "code",
   "execution_count": 37,
   "metadata": {
    "collapsed": true
   },
   "outputs": [],
   "source": [
    "APD=np.zeros_like(data)\n",
    "is_active=1"
   ]
  },
  {
   "cell_type": "code",
   "execution_count": 38,
   "metadata": {
    "collapsed": true
   },
   "outputs": [],
   "source": [
    "maxtab = []\n",
    "mintab = []\n",
    "x = np.arange(len(data))\n",
    "v = np.asarray(data)\n",
    "mn, mx = np.Inf, -np.Inf\n",
    "mnpos, mxpos = np.NaN, np.NaN\n",
    "lookformax = True\n",
    "for k in np.arange(len(v)):\n",
    "    this = v[k]\n",
    "    if this > mx:\n",
    "        mx = this\n",
    "        mxpos = x[k]\n",
    "    if this < mn:\n",
    "        mn = this\n",
    "        mnpos = x[k]\n",
    "    if lookformax:\n",
    "        if this < mx-0.1:   ##mx-OO で検知する厳しさを設定\n",
    "            maxtab.append((mxpos, mx))\n",
    "            mn = this\n",
    "            mnpos = x[k]\n",
    "            lookformax = False\n",
    "    else :\n",
    "        if this > mn+0.1:\n",
    "            mintab.append((mnpos, mn))\n",
    "            mx = this\n",
    "            mxpos = x[k]\n",
    "            lookformax = True\n",
    "maxtab = np.array(maxtab)\n",
    "mintab = np.array(mintab)\n",
    "if maxtab[0, 0] <= mintab[0,0]:\n",
    "\n",
    "    APD_start = maxtab[1,0]\n",
    "else:\n",
    "    APD_start = maxtab[0, 0]        \n",
    "if maxtab[-1, 0] >= mintab[-1, 0]:\n",
    "    APD_end = mintab[-2, 0]\n",
    "else:\n",
    "    APD_end = mintab[-1, 0]\n",
    "x_range = np.arange(int(APD_start),int(APD_end), 1)\n",
    "max_y = np.mean(maxtab, axis=0)[1]\n",
    "min_y = np.mean(mintab, axis=0)[1]\n",
    "APD_50 = min_y + (max_y - min_y) * 0.5\n",
    "APD_90 = min_y + (max_y - min_y) * 0.1\n",
    "for k in range(x_range[0], x_range[-1]-1):\n",
    "    start_time =list(filter(lambda x:x<=k, maxtab[:, 0]))[-1]\n",
    "    if is_active:\n",
    "        if data[k] >= APD_90 and data[k+1] < APD_90:\n",
    "            APD_value = k - start_time\n",
    "            is_active = 0\n",
    "        else:\n",
    "            APD_value = 0\n",
    "    else:\n",
    "        if data[k] <= APD_50 and data[k+1] > APD_50:\n",
    "            APD_value=0\n",
    "            is_active = 1\n",
    "        else:\n",
    "            APD_value=0\n",
    "    APD[k] = APD_value  "
   ]
  },
  {
   "cell_type": "code",
   "execution_count": 31,
   "metadata": {
    "collapsed": false
   },
   "outputs": [
    {
     "name": "stdout",
     "output_type": "stream",
     "text": [
      "111.222222222\n"
     ]
    }
   ],
   "source": [
    "print(APD[APD!=0].mean())\n",
    "#4"
   ]
  },
  {
   "cell_type": "code",
   "execution_count": 32,
   "metadata": {
    "collapsed": false
   },
   "outputs": [
    {
     "name": "stdout",
     "output_type": "stream",
     "text": [
      "3.48895965958\n"
     ]
    }
   ],
   "source": [
    "print(APD[APD!=0].std())"
   ]
  },
  {
   "cell_type": "code",
   "execution_count": 13,
   "metadata": {
    "collapsed": false
   },
   "outputs": [
    {
     "data": {
      "text/plain": [
       "array([   0.,    0.,    0.,    0.,    0.,    0.,    0.,    0.,    0.,\n",
       "          0.,    0.,    0.,    0.,    0.,    0.,  111.,    0.,    0.,\n",
       "          0.,    0.,    0.,    0.,    0.,    0.,    0.,    0.,    0.,\n",
       "          0.,    0.,    0.,    0.,    0.,    0.,    0.,    0.,    0.,\n",
       "          0.,    0.,    0.,    0.,    0.,    0.,    0.,    0.,    0.,\n",
       "          0.,    0.,    0.,    0.,    0.,    0.,    0.,    0.,    0.,\n",
       "          0.,    0.,    0.,    0.,    0.,    0.,    0.,    0.,    0.,\n",
       "          0.,    0.,    0.,    0.,    0.,    0.,    0.,    0.,    0.,\n",
       "          0.,    0.,    0.,    0.,    0.,    0.,    0.,    0.,    0.,\n",
       "          0.,    0.,    0.,    0.,    0.,    0.,    0.,    0.,    0.,\n",
       "          0.,    0.,    0.,    0.,    0.,    0.,    0.,    0.,    0.,\n",
       "          0.,    0.,    0.,    0.,    0.,    0.,    0.,    0.,    0.,\n",
       "          0.,    0.,    0.,    0.,    0.,    0.,    0.,    0.,    0.,\n",
       "          0.,    0.,    0.,    0.,    0.,    0.,    0.,    0.,    0.,\n",
       "          0.,    0.,    0.,    0.,    0.,    0.,    0.,    0.,    0.,\n",
       "          0.,    0.,    0.,    0.,    0.,    0.,    0.,    0.,    0.,\n",
       "          0.,    0.,    0.,    0.,    0.,    0.,    0.,    0.,    0.,\n",
       "          0.,    0.,    0.,    0.,    0.,    0.,    0.,    0.,    0.,\n",
       "          0.,    0.,    0.,    0.,    0.,    0.,    0.,    0.,    0.,\n",
       "          0.,    0.,    0.,    0.,    0.,    0.,    0.,    0.,    0.,\n",
       "          0.,    0.,    0.,    0.,    0.,    0.,    0.,    0.,    0.,\n",
       "          0.,    0.,    0.,    0.,    0.,    0.,    0.,    0.,    0.,\n",
       "          0.,    0.,    0.,    0.,    0.,    0.,    0.,    0.,    0.,\n",
       "          0.,    0.,    0.,    0.,    0.,    0.,    0.,    0.,    0.,\n",
       "          0.,    0.,    0.,    0.,    0.,    0.,    0.,    0.,    0.,\n",
       "          0.,    0.,    0.,    0.,    0.,    0.,    0.,    0.,    0.,\n",
       "          0.,    0.,    0.,    0.,    0.,    0.,    0.,    0.,    0.,\n",
       "          0.,    0.,    0.,    0.,    0.,    0.,    0.,    0.,    0.,\n",
       "          0.,    0.,    0.,    0.,    0.,    0.,    0.,    0.,    0.,\n",
       "          0.,    0.,    0.,    0.,    0.,    0.,    0.,    0.,    0.,\n",
       "          0.,    0.,    0.,    0.,    0.,    0.,    0.,    0.,    0.,\n",
       "          0.,    0.,    0.,    0.,    0.,    0.,    0.,    0.,    0.,\n",
       "          0.,    0.,    0.,    0.,    0.,    0.,    0.,    0.,    0.,\n",
       "          0.,    0.,    0.,    0.,    0.,    0.,    0.,    0.,    0.,\n",
       "          0.,    0.,    0.,    0.,    0.,    0.,    0.,    0.,    0.,\n",
       "          0.,    0.,    0.,    0.,    0.,    0.,    0.,    0.,    0.,\n",
       "          0.,    0.,    0.,    0.,    0.,    0.,    0.,    0.,    0.,\n",
       "          0.,    0.,    0.,    0.,    0.,    0.,    0.,    0.,    0.,\n",
       "          0.,    0.,    0.,    0.,    0.,    0.,    0.,    0.,    0.,\n",
       "          0.,    0.,    0.,    0.,    0.,    0.,    0.,    0.,    0.,\n",
       "          0.,    0.,    0.,    0.,    0.,    0.,    0.,    0.,    0.,\n",
       "          0.,    0.,    0.,    0.,    0.,    0.,    0.,    0.,    0.,\n",
       "          0.,    0.,    0.,    0.,    0.,    0.,    0.,    0.,    0.,\n",
       "          0.,    0.,    0.,    0.,    0.,    0.,    0.,    0.,    0.,\n",
       "          0.,    0.,    0.,    0.,    0.,    0.,    0.,    0.,    0.,\n",
       "          0.,    0.,    0.,    0.,    0.,    0.,    0.,    0.,    0.,\n",
       "        110.,    0.,    0.,    0.,    0.,    0.,    0.,    0.,    0.,\n",
       "          0.,    0.,    0.,    0.,    0.,    0.,    0.,    0.,    0.,\n",
       "          0.,    0.,    0.,    0.,    0.,    0.,    0.,    0.,    0.,\n",
       "          0.,    0.,    0.,    0.,    0.,    0.,    0.,    0.,    0.,\n",
       "          0.,    0.,    0.,    0.,    0.,    0.,    0.,    0.,    0.,\n",
       "          0.,    0.,    0.,    0.,    0.,    0.,    0.,    0.,    0.,\n",
       "          0.,    0.,    0.,    0.,    0.,    0.,    0.,    0.,    0.,\n",
       "          0.,    0.,    0.,    0.,    0.,    0.,    0.,    0.,    0.,\n",
       "          0.,    0.,    0.,    0.,    0.,    0.,    0.,    0.,    0.,\n",
       "          0.,    0.,    0.,    0.,    0.])"
      ]
     },
     "execution_count": 13,
     "metadata": {},
     "output_type": "execute_result"
    }
   ],
   "source": [
    "APD[500:1000]"
   ]
  },
  {
   "cell_type": "code",
   "execution_count": 39,
   "metadata": {
    "collapsed": false
   },
   "outputs": [
    {
     "name": "stdout",
     "output_type": "stream",
     "text": [
      "111.222222222\n"
     ]
    }
   ],
   "source": [
    "print(APD[APD!=0].mean())\n",
    "#0.1"
   ]
  },
  {
   "cell_type": "code",
   "execution_count": 40,
   "metadata": {
    "collapsed": false
   },
   "outputs": [
    {
     "name": "stdout",
     "output_type": "stream",
     "text": [
      "3.48895965958\n"
     ]
    }
   ],
   "source": [
    "print(APD[APD!=0].std())"
   ]
  },
  {
   "cell_type": "code",
   "execution_count": 41,
   "metadata": {
    "collapsed": false
   },
   "outputs": [
    {
     "name": "stdout",
     "output_type": "stream",
     "text": [
      "9\n"
     ]
    }
   ],
   "source": [
    "print(np.count_nonzero(APD != 0))"
   ]
  },
  {
   "cell_type": "code",
   "execution_count": 44,
   "metadata": {
    "collapsed": false
   },
   "outputs": [
    {
     "name": "stdout",
     "output_type": "stream",
     "text": [
      "[ 121.  111.  110.  109.  110.  110.  110.  110.  110.]\n"
     ]
    }
   ],
   "source": [
    "print(APD[APD!=0])"
   ]
  },
  {
   "cell_type": "code",
   "execution_count": null,
   "metadata": {
    "collapsed": true
   },
   "outputs": [],
   "source": []
  },
  {
   "cell_type": "code",
   "execution_count": 50,
   "metadata": {
    "collapsed": false
   },
   "outputs": [
    {
     "data": {
      "image/png": "[encoded data removed]",
      "text/plain": [
       "<matplotlib.figure.Figure at 0x7f7267fdf490>"
      ]
     },
     "metadata": {},
     "output_type": "display_data"
    }
   ],
   "source": [
    "import h5py\n",
    "input_file = \"./test/courtmanche/400pacing_ilca*0.5_ikur*3.0_amp-20_restart/out.h5\"\n",
    "with h5py.File(input_file,\"r\") as h5file:\n",
    "\n",
    "    start=0\n",
    "    dur=4000\n",
    "    \n",
    "\n",
    "    v=np.zeros(dur)\n",
    "    for i in range(1,dur-1):\n",
    "        a  = h5file[\"{0:0>5}/v\".format(i+start)].value \n",
    "        #ti = np.arange(0,100.,1)\n",
    "        #ax_v.plot(ti,v,'o')\n",
    "        plt.xlim([0,4000])\n",
    "        plt.ylim([-90,50])\n",
    "        v[i]=a\n",
    "\n",
    "    time=np.arange(0,dur,1)\n",
    "    plt.plot(time,v)\n",
    "    plt.show()\n"
   ]
  },
  {
   "cell_type": "code",
   "execution_count": 51,
   "metadata": {
    "collapsed": false
   },
   "outputs": [
    {
     "data": {
      "text/plain": [
       "(4000,)"
      ]
     },
     "execution_count": 51,
     "metadata": {},
     "output_type": "execute_result"
    }
   ],
   "source": [
    "data = v\n",
    "data.shape"
   ]
  },
  {
   "cell_type": "code",
   "execution_count": 52,
   "metadata": {
    "collapsed": true
   },
   "outputs": [],
   "source": [
    "APD=np.zeros_like(data)\n",
    "is_active=1"
   ]
  },
  {
   "cell_type": "code",
   "execution_count": 53,
   "metadata": {
    "collapsed": true
   },
   "outputs": [],
   "source": [
    "maxtab = []\n",
    "mintab = []\n",
    "x = np.arange(len(data))\n",
    "v = np.asarray(data)\n",
    "mn, mx = np.Inf, -np.Inf\n",
    "mnpos, mxpos = np.NaN, np.NaN\n",
    "lookformax = True\n",
    "for k in np.arange(len(v)):\n",
    "    this = v[k]\n",
    "    if this > mx:\n",
    "        mx = this\n",
    "        mxpos = x[k]\n",
    "    if this < mn:\n",
    "        mn = this\n",
    "        mnpos = x[k]\n",
    "    if lookformax:\n",
    "        if this < mx-0.1:   ##mx-OO で検知する厳しさを設定\n",
    "            maxtab.append((mxpos, mx))\n",
    "            mn = this\n",
    "            mnpos = x[k]\n",
    "            lookformax = False\n",
    "    else :\n",
    "        if this > mn+0.1:\n",
    "            mintab.append((mnpos, mn))\n",
    "            mx = this\n",
    "            mxpos = x[k]\n",
    "            lookformax = True\n",
    "maxtab = np.array(maxtab)\n",
    "mintab = np.array(mintab)\n",
    "if maxtab[0, 0] <= mintab[0,0]:\n",
    "\n",
    "    APD_start = maxtab[1,0]\n",
    "else:\n",
    "    APD_start = maxtab[0, 0]        \n",
    "if maxtab[-1, 0] <= mintab[-1, 0]:\n",
    "    APD_end = mintab[-2, 0]\n",
    "else:\n",
    "    APD_end = mintab[-1, 0]\n",
    "x_range = np.arange(int(APD_start),int(APD_end), 1)\n",
    "max_y = np.mean(maxtab, axis=0)[1]\n",
    "min_y = np.mean(mintab, axis=0)[1]\n",
    "APD_50 = min_y + (max_y - min_y) * 0.5\n",
    "APD_90 = min_y + (max_y - min_y) * 0.1\n",
    "for k in range(x_range[0], x_range[-1]-1):\n",
    "    start_time =list(filter(lambda x:x<=k, maxtab[:, 0]))[-1]\n",
    "    if is_active:\n",
    "        if data[k] >= APD_90 and data[k+1] < APD_90:\n",
    "            APD_value = k - start_time\n",
    "            is_active = 0\n",
    "        else:\n",
    "            APD_value = 0\n",
    "    else:\n",
    "        if data[k] <= APD_50 and data[k+1] > APD_50:\n",
    "            APD_value=0\n",
    "            is_active = 1\n",
    "        else:\n",
    "            APD_value=0\n",
    "    APD[k] = APD_value  "
   ]
  },
  {
   "cell_type": "code",
   "execution_count": 54,
   "metadata": {
    "collapsed": false
   },
   "outputs": [
    {
     "name": "stdout",
     "output_type": "stream",
     "text": [
      "110.888888889\n"
     ]
    }
   ],
   "source": [
    "print(APD[APD!=0].mean())\n",
    "#0.1"
   ]
  },
  {
   "cell_type": "code",
   "execution_count": 55,
   "metadata": {
    "collapsed": false
   },
   "outputs": [
    {
     "name": "stdout",
     "output_type": "stream",
     "text": [
      "0.566557723733\n"
     ]
    }
   ],
   "source": [
    "print(APD[APD!=0].std())"
   ]
  },
  {
   "cell_type": "code",
   "execution_count": 56,
   "metadata": {
    "collapsed": false
   },
   "outputs": [
    {
     "name": "stdout",
     "output_type": "stream",
     "text": [
      "[ 110.  110.  111.  111.  111.  111.  111.  111.  112.]\n"
     ]
    }
   ],
   "source": [
    "print(APD[APD!=0])"
   ]
  },
  {
   "cell_type": "markdown",
   "metadata": {},
   "source": [
    "## master \n",
    "## 400pacing 20発印加後，10発分のAPD90平均 ．リスタートは30発印加後\n",
    "## APD90 111.7 ± 0.45 ms(n=10拍) "
   ]
  },
  {
   "cell_type": "code",
   "execution_count": 96,
   "metadata": {
    "collapsed": false
   },
   "outputs": [
    {
     "data": {
      "image/png": "[encoded data removed]",
      "text/plain": [
       "<matplotlib.figure.Figure at 0x7f7265530f90>"
      ]
     },
     "metadata": {},
     "output_type": "display_data"
    }
   ],
   "source": [
    "import h5py\n",
    "input_file = \"./test/courtmanche/400pacing_ilca*0.5_ikur*3.0_amp-20_master/out.h5\"\n",
    "with h5py.File(input_file,\"r\") as h5file:\n",
    "\n",
    "    start=0\n",
    "    dur=12000\n",
    "    \n",
    "\n",
    "    v=np.zeros(dur)\n",
    "    for i in range(1,dur-1):\n",
    "        a  = h5file[\"{0:0>5}/v\".format(i+start)].value \n",
    "        #ti = np.arange(0,100.,1)\n",
    "        #ax_v.plot(ti,v,'o')\n",
    "        plt.xlim([0,12000])\n",
    "        plt.ylim([-90,50])\n",
    "        v[i]=a\n",
    "\n",
    "    time=np.arange(0,dur,1)\n",
    "    plt.plot(time,v)\n",
    "    plt.show()\n"
   ]
  },
  {
   "cell_type": "code",
   "execution_count": 97,
   "metadata": {
    "collapsed": false
   },
   "outputs": [],
   "source": [
    "data = v\n",
    "APD=np.zeros_like(data)\n",
    "is_active=1"
   ]
  },
  {
   "cell_type": "code",
   "execution_count": 98,
   "metadata": {
    "collapsed": true
   },
   "outputs": [],
   "source": [
    "maxtab = []\n",
    "mintab = []\n",
    "x = np.arange(len(data))\n",
    "v = np.asarray(data)\n",
    "mn, mx = np.Inf, -np.Inf\n",
    "mnpos, mxpos = np.NaN, np.NaN\n",
    "lookformax = True\n",
    "for k in np.arange(len(v)):\n",
    "    this = v[k]\n",
    "    if this > mx:\n",
    "        mx = this\n",
    "        mxpos = x[k]\n",
    "    if this < mn:\n",
    "        mn = this\n",
    "        mnpos = x[k]\n",
    "    if lookformax:\n",
    "        if this < mx-0.1:   ##mx-OO で検知する厳しさを設定\n",
    "            maxtab.append((mxpos, mx))\n",
    "            mn = this\n",
    "            mnpos = x[k]\n",
    "            lookformax = False\n",
    "    else :\n",
    "        if this > mn+0.1:\n",
    "            mintab.append((mnpos, mn))\n",
    "            mx = this\n",
    "            mxpos = x[k]\n",
    "            lookformax = True\n",
    "maxtab = np.array(maxtab)\n",
    "mintab = np.array(mintab)\n",
    "if maxtab[0, 0] <= mintab[0,0]:\n",
    "\n",
    "    APD_start = maxtab[1,0]\n",
    "else:\n",
    "    APD_start = maxtab[0, 0]        \n",
    "if maxtab[-1, 0] >= mintab[-1, 0]:\n",
    "    APD_end = mintab[-2, 0]\n",
    "else:\n",
    "    APD_end = mintab[-1, 0]\n",
    "x_range = np.arange(int(APD_start),int(APD_end), 1)\n",
    "max_y = np.mean(maxtab, axis=0)[1]\n",
    "min_y = np.mean(mintab, axis=0)[1]\n",
    "APD_50 = min_y + (max_y - min_y) * 0.5\n",
    "APD_90 = min_y + (max_y - min_y) * 0.1\n",
    "for k in range(x_range[0], x_range[-1]-1):\n",
    "    start_time =list(filter(lambda x:x<=k, maxtab[:, 0]))[-1]\n",
    "    if is_active:\n",
    "        if data[k] >= APD_90 and data[k+1] < APD_90:\n",
    "            APD_value = k - start_time\n",
    "            is_active = 0\n",
    "        else:\n",
    "            APD_value = 0\n",
    "    else:\n",
    "        if data[k] <= APD_50 and data[k+1] > APD_50:\n",
    "            APD_value=0\n",
    "            is_active = 1\n",
    "        else:\n",
    "            APD_value=0\n",
    "    APD[k] = APD_value  "
   ]
  },
  {
   "cell_type": "code",
   "execution_count": 101,
   "metadata": {
    "collapsed": false
   },
   "outputs": [
    {
     "name": "stdout",
     "output_type": "stream",
     "text": [
      "4.0\n",
      "11998.0\n"
     ]
    }
   ],
   "source": [
    "print(APD_start)\n",
    "print(APD_end)"
   ]
  },
  {
   "cell_type": "code",
   "execution_count": 102,
   "metadata": {
    "collapsed": false
   },
   "outputs": [
    {
     "name": "stdout",
     "output_type": "stream",
     "text": [
      "[ 120.  110.  109.  109.  109.  109.  109.  109.  109.  110.  110.  110.\n",
      "  110.  110.  110.  111.  111.  111.  111.  111.  111.  111.  112.  112.\n",
      "  112.  112.  112.  112.  112.  112.]\n"
     ]
    }
   ],
   "source": [
    "#30拍のAPD\n",
    "print(APD[APD!=0])"
   ]
  },
  {
   "cell_type": "code",
   "execution_count": 107,
   "metadata": {
    "collapsed": false
   },
   "outputs": [
    {
     "data": {
      "image/png": "[encoded data removed]",
      "text/plain": [
       "<matplotlib.figure.Figure at 0x7f72653e4c90>"
      ]
     },
     "metadata": {},
     "output_type": "display_data"
    }
   ],
   "source": [
    "import h5py\n",
    "input_file = \"./test/courtmanche/400pacing_ilca*0.5_ikur*3.0_amp-20_master/out.h5\"\n",
    "with h5py.File(input_file,\"r\") as h5file:\n",
    "\n",
    "    start=8000\n",
    "    dur=4000\n",
    "    \n",
    "\n",
    "    v=np.zeros(dur)\n",
    "    for i in range(1,dur-1):\n",
    "        a  = h5file[\"{0:0>5}/v\".format(i+start)].value \n",
    "        #ti = np.arange(0,100.,1)\n",
    "        #ax_v.plot(ti,v,'o')\n",
    "        plt.xlim([0,4000])\n",
    "        plt.ylim([-90,50])\n",
    "        v[i]=a\n",
    "\n",
    "    time=np.arange(0,dur,1)\n",
    "    plt.plot(time,v)\n",
    "    plt.show()\n"
   ]
  },
  {
   "cell_type": "code",
   "execution_count": 108,
   "metadata": {
    "collapsed": true
   },
   "outputs": [],
   "source": [
    "data = v\n",
    "APD=np.zeros_like(data)\n",
    "is_active=1"
   ]
  },
  {
   "cell_type": "code",
   "execution_count": 109,
   "metadata": {
    "collapsed": true
   },
   "outputs": [],
   "source": [
    "maxtab = []\n",
    "mintab = []\n",
    "x = np.arange(len(data))\n",
    "v = np.asarray(data)\n",
    "mn, mx = np.Inf, -np.Inf\n",
    "mnpos, mxpos = np.NaN, np.NaN\n",
    "lookformax = True\n",
    "for k in np.arange(len(v)):\n",
    "    this = v[k]\n",
    "    if this > mx:\n",
    "        mx = this\n",
    "        mxpos = x[k]\n",
    "    if this < mn:\n",
    "        mn = this\n",
    "        mnpos = x[k]\n",
    "    if lookformax:\n",
    "        if this < mx-0.1:   ##mx-OO で検知する厳しさを設定\n",
    "            maxtab.append((mxpos, mx))\n",
    "            mn = this\n",
    "            mnpos = x[k]\n",
    "            lookformax = False\n",
    "    else :\n",
    "        if this > mn+0.1:\n",
    "            mintab.append((mnpos, mn))\n",
    "            mx = this\n",
    "            mxpos = x[k]\n",
    "            lookformax = True\n",
    "maxtab = np.array(maxtab)\n",
    "mintab = np.array(mintab)\n",
    "if maxtab[0, 0] <= mintab[0,0]:\n",
    "\n",
    "    APD_start = maxtab[1,0]\n",
    "else:\n",
    "    APD_start = maxtab[0, 0]        \n",
    "if maxtab[-1, 0] >= mintab[-1, 0]:\n",
    "    APD_end = mintab[-2, 0]\n",
    "else:\n",
    "    APD_end = mintab[-1, 0]\n",
    "x_range = np.arange(int(APD_start),int(APD_end), 1)\n",
    "max_y = np.mean(maxtab, axis=0)[1]\n",
    "min_y = np.mean(mintab, axis=0)[1]\n",
    "APD_50 = min_y + (max_y - min_y) * 0.5\n",
    "APD_90 = min_y + (max_y - min_y) * 0.1\n",
    "for k in range(x_range[0], x_range[-1]-1):\n",
    "    start_time =list(filter(lambda x:x<=k, maxtab[:, 0]))[-1]\n",
    "    if is_active:\n",
    "        if data[k] >= APD_90 and data[k+1] < APD_90:\n",
    "            APD_value = k - start_time\n",
    "            is_active = 0\n",
    "        else:\n",
    "            APD_value = 0\n",
    "    else:\n",
    "        if data[k] <= APD_50 and data[k+1] > APD_50:\n",
    "            APD_value=0\n",
    "            is_active = 1\n",
    "        else:\n",
    "            APD_value=0\n",
    "    APD[k] = APD_value  "
   ]
  },
  {
   "cell_type": "code",
   "execution_count": 110,
   "metadata": {
    "collapsed": false,
    "scrolled": true
   },
   "outputs": [
    {
     "name": "stdout",
     "output_type": "stream",
     "text": [
      "[ 111.  111.  111.  112.  112.  112.  112.  112.  112.  112.]\n"
     ]
    }
   ],
   "source": [
    "#ラスト10拍のAPD\n",
    "print(APD[APD!=0])"
   ]
  },
  {
   "cell_type": "code",
   "execution_count": 112,
   "metadata": {
    "collapsed": false
   },
   "outputs": [
    {
     "name": "stdout",
     "output_type": "stream",
     "text": [
      "111.7\n",
      "0.458257569496\n"
     ]
    }
   ],
   "source": [
    "print(APD[APD!=0].mean())\n",
    "print(APD[APD!=0].std())"
   ]
  },
  {
   "cell_type": "code",
   "execution_count": null,
   "metadata": {
    "collapsed": true
   },
   "outputs": [],
   "source": []
  },
  {
   "cell_type": "code",
   "execution_count": 5,
   "metadata": {
    "collapsed": false
   },
   "outputs": [
    {
     "data": {
      "image/png": "[encoded data removed]",
      "text/plain": [
       "<matplotlib.figure.Figure at 0x7f057d5e1550>"
      ]
     },
     "metadata": {},
     "output_type": "display_data"
    }
   ],
   "source": [
    "import h5py\n",
    "input_file = \"/mnt/Share/Temp/kato/celltest_results/courtmanche/400pacing_ilca*0.5_ikur*3.0_amp-20_master/out.h5\"\n",
    "with h5py.File(input_file,\"r\") as h5file:\n",
    "\n",
    "    start=0\n",
    "    dur=2000\n",
    "    \n",
    "\n",
    "    v=np.zeros(dur)\n",
    "    for i in range(1,dur-1):\n",
    "        a  = h5file[\"{0:0>5}/v\".format(i+start)].value \n",
    "        #ti = np.arange(0,100.,1)\n",
    "        #ax_v.plot(ti,v,'o')\n",
    "        plt.xlim([0,2000])\n",
    "        plt.ylim([-90,50])\n",
    "        v[i]=a\n",
    "\n",
    "    time=np.arange(0,dur,1)\n",
    "    plt.plot(time,v)\n",
    "    plt.show()\n"
   ]
  },
  {
   "cell_type": "code",
   "execution_count": 7,
   "metadata": {
    "collapsed": true
   },
   "outputs": [],
   "source": [
    "data = v\n",
    "APD=np.zeros_like(data)\n",
    "is_active=1"
   ]
  },
  {
   "cell_type": "code",
   "execution_count": 8,
   "metadata": {
    "collapsed": false
   },
   "outputs": [],
   "source": [
    "\n",
    "maxtab = []\n",
    "mintab = []\n",
    "starttab=[]\n",
    "endtab=[]\n",
    "\n",
    "x = np.arange(len(data[:]))\n",
    "v = np.asarray(data[:])\n",
    "mn, mx = np.Inf, -np.Inf\n",
    "mnpos, mxpos = np.NaN, np.NaN\n",
    "lookformax = True\n",
    "for k in np.arange(len(v)):\n",
    "    this = v[k]\n",
    "    if this > mx:\n",
    "        mx = this\n",
    "        mxpos = x[k]\n",
    "    if this < mn:\n",
    "        mn = this\n",
    "        mnpos = x[k]\n",
    "    if lookformax:\n",
    "        if this < mx-0.1:   ##mx-OO で検知する厳しさを設定\n",
    "            maxtab.append((mxpos, mx))\n",
    "            mn = this\n",
    "            mnpos = x[k]\n",
    "            lookformax = False\n",
    "    else :\n",
    "        if this > mn+0.1:\n",
    "            mintab.append((mnpos, mn))\n",
    "            mx = this\n",
    "            mxpos = x[k]\n",
    "            lookformax = True\n",
    "maxtab = np.array(maxtab)\n",
    "mintab = np.array(mintab)\n",
    "if maxtab[0, 0] <= mintab[0,0]:\n",
    "\n",
    "    APD_start = maxtab[1,0]\n",
    "else:\n",
    "    APD_start = maxtab[0, 0]        \n",
    "if maxtab[-1, 0] >= mintab[-1, 0]:\n",
    "    APD_end = mintab[-2, 0]\n",
    "else:\n",
    "    APD_end = mintab[-1, 0]\n",
    "x_range = np.arange(int(APD_start),int(APD_end), 1)\n",
    "max_y = np.mean(maxtab, axis=0)[1]\n",
    "min_y = np.mean(mintab, axis=0)[1]\n",
    "APD_50 = min_y + (max_y - min_y) * 0.5\n",
    "APD_90 = min_y + (max_y - min_y) * 0.1\n",
    "for k in range(x_range[0], x_range[-1]-1):\n",
    "    start_time =list(filter(lambda x:x<=k, maxtab[:, 0]))[-1]\n",
    "    if is_active:\n",
    "        if data[k] >= APD_90 and data[k+1] < APD_90:\n",
    "            APD_value = k - start_time\n",
    "            starttab.append(start_time)\n",
    "            endtab.append(k)\n",
    "            is_active = 0\n",
    "        else:\n",
    "            APD_value = 0\n",
    "    else:\n",
    "        if data[k] <= APD_50 and data[k+1] > APD_50:\n",
    "            APD_value=0\n",
    "            is_active = 1\n",
    "        else:\n",
    "            APD_value=0\n",
    "    APD[k] = APD_value  "
   ]
  },
  {
   "cell_type": "code",
   "execution_count": 12,
   "metadata": {
    "collapsed": false
   },
   "outputs": [
    {
     "data": {
      "text/plain": [
       "array([[  1.00000000e+00,  -8.14582504e+01],\n",
       "       [  4.01000000e+02,  -8.36884602e+01],\n",
       "       [  8.01000000e+02,  -8.36437421e+01],\n",
       "       [  1.20000000e+03,  -8.36026616e+01],\n",
       "       [  1.60000000e+03,  -8.35628298e+01],\n",
       "       [  1.99800000e+03,  -8.35221083e+01]])"
      ]
     },
     "execution_count": 12,
     "metadata": {},
     "output_type": "execute_result"
    }
   ],
   "source": [
    "mintab"
   ]
  },
  {
   "cell_type": "code",
   "execution_count": 13,
   "metadata": {
    "collapsed": false
   },
   "outputs": [
    {
     "data": {
      "text/plain": [
       "array([[    0.        ,     0.        ],\n",
       "       [    4.        ,    20.6340314 ],\n",
       "       [  404.        ,    22.16587808],\n",
       "       [  804.        ,    22.12690169],\n",
       "       [ 1204.        ,    22.05417493],\n",
       "       [ 1604.        ,    22.03564152]])"
      ]
     },
     "execution_count": 13,
     "metadata": {},
     "output_type": "execute_result"
    }
   ],
   "source": [
    "maxtab"
   ]
  },
  {
   "cell_type": "code",
   "execution_count": 15,
   "metadata": {
    "collapsed": false
   },
   "outputs": [
    {
     "name": "stdout",
     "output_type": "stream",
     "text": [
      "[  0.         -81.45825042 -61.80914277 -12.54600798  20.6340314\n",
      "   7.58125035  -1.85610728  -7.57294546 -11.19646336 -13.69474069\n",
      " -15.56989135 -17.08047258 -18.36211174 -19.48824932 -20.50054049]\n"
     ]
    }
   ],
   "source": [
    "print(data[0:15])"
   ]
  },
  {
   "cell_type": "code",
   "execution_count": 14,
   "metadata": {
    "collapsed": false
   },
   "outputs": [
    {
     "data": {
      "text/plain": [
       "[<matplotlib.lines.Line2D at 0x7f057abd0d50>]"
      ]
     },
     "execution_count": 14,
     "metadata": {},
     "output_type": "execute_result"
    },
    {
     "data": {
      "image/png": "[encoded data removed]",
      "text/plain": [
       "<matplotlib.figure.Figure at 0x7f057afc3dd0>"
      ]
     },
     "metadata": {},
     "output_type": "display_data"
    }
   ],
   "source": [
    "fig = plt.figure(figsize=(10,4))\n",
    "time=np.arange(0,2000,1)\n",
    "plt.plot(time,v) \n",
    "plt.xlim([399,409])\n",
    "[plt.plot(point[0],point[1],marker='|',color = 'red',markersize=50) for point in maxtab]\n",
    "[plt.plot(point[0],point[1],marker='|',color = 'black',markersize=120) for point in mintab]\n",
    "plt.plot(APD_start,0,marker='.',color='red',markersize=10)\n",
    "plt.plot(APD_end,0,marker='.',color='black',markersize=10)\n",
    "x_coodinates = np.arange(starttab[0],endtab[0], 0.01)\n",
    "y_coodinates = np.ones_like(x_coodinates)*(APD_90)\n",
    "\n",
    "\n",
    "plt.plot(x_coodinates, y_coodinates, color=\"Black\")"
   ]
  },
  {
   "cell_type": "code",
   "execution_count": null,
   "metadata": {
    "collapsed": true
   },
   "outputs": [],
   "source": []
  },
  {
   "cell_type": "code",
   "execution_count": 19,
   "metadata": {
    "collapsed": true
   },
   "outputs": [],
   "source": [
    "maxtab = []\n",
    "mintab = []\n",
    "starttab=[]\n",
    "endtab=[]\n",
    "\n",
    "x = np.arange(len(data[:]))\n",
    "v = np.asarray(data[:])\n",
    "mn, mx = np.Inf, -np.Inf\n",
    "mnpos, mxpos = np.NaN, np.NaN\n",
    "lookformax = True\n",
    "for k in np.arange(len(v)):\n",
    "    this = v[k]\n",
    "    if this > mx:\n",
    "        mx = this\n",
    "        mxpos = x[k]\n",
    "    if this < mn:\n",
    "        mn = this\n",
    "        mnpos = x[k]\n",
    "    if lookformax:\n",
    "        if this < mx-10:   ##mx-OO で検知する厳しさを設定\n",
    "            maxtab.append((mxpos, mx))\n",
    "            mn = this\n",
    "            mnpos = x[k]\n",
    "            lookformax = False\n",
    "    else :\n",
    "        if this > mn+10:\n",
    "            mintab.append((mnpos, mn))\n",
    "            mx = this\n",
    "            mxpos = x[k]\n",
    "            lookformax = True\n",
    "maxtab = np.array(maxtab)\n",
    "mintab = np.array(mintab)\n",
    "if maxtab[0, 0] <= mintab[0,0]:\n",
    "\n",
    "    APD_start = maxtab[1,0]\n",
    "else:\n",
    "    APD_start = maxtab[0, 0]        \n",
    "if maxtab[-1, 0] >= mintab[-1, 0]:\n",
    "    APD_end = mintab[-2, 0]\n",
    "else:\n",
    "    APD_end = mintab[-1, 0]\n",
    "x_range = np.arange(int(APD_start),int(APD_end), 1)\n",
    "max_y = np.mean(maxtab, axis=0)[1]\n",
    "min_y = np.mean(mintab, axis=0)[1]\n",
    "APD_50 = min_y + (max_y - min_y) * 0.5\n",
    "APD_90 = min_y + (max_y - min_y) * 0.1"
   ]
  },
  {
   "cell_type": "code",
   "execution_count": 20,
   "metadata": {
    "collapsed": false
   },
   "outputs": [
    {
     "name": "stdout",
     "output_type": "stream",
     "text": [
      "[[    0.             0.        ]\n",
      " [    4.            20.6340314 ]\n",
      " [  404.            22.16587808]\n",
      " [  804.            22.12690169]\n",
      " [ 1204.            22.05417493]\n",
      " [ 1604.            22.03564152]]\n",
      "[[  1.00000000e+00  -8.14582504e+01]\n",
      " [  4.01000000e+02  -8.36884602e+01]\n",
      " [  8.01000000e+02  -8.36437421e+01]\n",
      " [  1.20000000e+03  -8.36026616e+01]\n",
      " [  1.60000000e+03  -8.35628298e+01]\n",
      " [  1.99800000e+03  -8.35221083e+01]]\n"
     ]
    }
   ],
   "source": [
    "print(maxtab)\n",
    "print(mintab)"
   ]
  },
  {
   "cell_type": "code",
   "execution_count": null,
   "metadata": {
    "collapsed": true
   },
   "outputs": [],
   "source": []
  }
 ],
 "metadata": {
  "kernelspec": {
   "display_name": "Python 2",
   "language": "python",
   "name": "python2"
  },
  "language_info": {
   "codemirror_mode": {
    "name": "ipython",
    "version": 2
   },
   "file_extension": ".py",
   "mimetype": "text/x-python",
   "name": "python",
   "nbconvert_exporter": "python",
   "pygments_lexer": "ipython2",
   "version": "2.7.15"
  }
 },
 "nbformat": 4,
 "nbformat_minor": 2
}
