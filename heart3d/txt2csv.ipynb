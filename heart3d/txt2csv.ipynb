{
 "cells": [
  {
   "cell_type": "code",
   "execution_count": 3,
   "metadata": {
    "collapsed": false
   },
   "outputs": [],
   "source": [
    "import pandas as pd\n",
    "\n",
    "for j in range(900):\n",
    "    num = \"{0:05d}\".format(j)\n",
    "    filename = \"/mnt/Omer/Project/07.DeepElectrodeMapping/kato/3Dresults/0528/txt/pc_sample_%s.txt\"%num\n",
    "    df = pd.read_table(filename, header=None, delim_whitespace=True)\n",
    "    df.to_csv('/mnt/Omer/Project/07.DeepElectrodeMapping/kato/3Dresults/0528/csv/pc_sample_%s.csv'%num, index=False, header=False)"
   ]
  },
  {
   "cell_type": "code",
   "execution_count": null,
   "metadata": {
    "collapsed": true
   },
   "outputs": [],
   "source": []
  }
 ],
 "metadata": {
  "kernelspec": {
   "display_name": "Python 2",
   "language": "python",
   "name": "python2"
  },
  "language_info": {
   "codemirror_mode": {
    "name": "ipython",
    "version": 2
   },
   "file_extension": ".py",
   "mimetype": "text/x-python",
   "name": "python",
   "nbconvert_exporter": "python",
   "pygments_lexer": "ipython2",
   "version": "2.7.15"
  }
 },
 "nbformat": 4,
 "nbformat_minor": 2
}
