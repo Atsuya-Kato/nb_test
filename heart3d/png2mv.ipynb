{
 "cells": [
  {
   "cell_type": "code",
   "execution_count": 3,
   "metadata": {
    "collapsed": true
   },
   "outputs": [],
   "source": [
    "import os,sys\n",
    "import subprocess"
   ]
  },
  {
   "cell_type": "code",
   "execution_count": 14,
   "metadata": {
    "collapsed": false
   },
   "outputs": [
    {
     "data": {
      "text/plain": [
       "0"
      ]
     },
     "execution_count": 14,
     "metadata": {},
     "output_type": "execute_result"
    }
   ],
   "source": [
    "os.chdir(\"/mnt/Omer/Project/07.DeepElectrodeMapping/kato/3Dresults/0528/image2\")\n",
    "subprocess.call(['ffmpeg','-i','image.%04d.png','out.wmv'])"
   ]
  },
  {
   "cell_type": "code",
   "execution_count": 16,
   "metadata": {
    "collapsed": false
   },
   "outputs": [
    {
     "data": {
      "text/plain": [
       "0"
      ]
     },
     "execution_count": 16,
     "metadata": {},
     "output_type": "execute_result"
    }
   ],
   "source": [
    "os.chdir(\"/mnt/Omer/Project/07.DeepElectrodeMapping/kato/3Dresults/0528/image2\")\n",
    "subprocess.call(['ffmpeg','-framerate','30','-i','image.%04d.png','-r','60','out3.wmv'])"
   ]
  },
  {
   "cell_type": "code",
   "execution_count": 20,
   "metadata": {
    "collapsed": false
   },
   "outputs": [
    {
     "data": {
      "text/plain": [
       "0"
      ]
     },
     "execution_count": 20,
     "metadata": {},
     "output_type": "execute_result"
    }
   ],
   "source": [
    "os.chdir(\"/mnt/Omer/Project/07.DeepElectrodeMapping/kato/3Dresults/0528/image3\")\n",
    "subprocess.call(['ffmpeg','-framerate','30','-i','anime2.%04d.png','-r','60','out3.wmv'])"
   ]
  },
  {
   "cell_type": "code",
   "execution_count": 2,
   "metadata": {
    "collapsed": false
   },
   "outputs": [
    {
     "data": {
      "text/plain": [
       "0"
      ]
     },
     "execution_count": 2,
     "metadata": {},
     "output_type": "execute_result"
    }
   ],
   "source": [
    "os.chdir(\"/mnt/Omer/Project/07.DeepElectrodeMapping/kato/3Dresults/0528/pc_anime/anime\")\n",
    "subprocess.call(['ffmpeg','-i','point.%04d.png','anime.wmv'])"
   ]
  },
  {
   "cell_type": "code",
   "execution_count": 9,
   "metadata": {
    "collapsed": false
   },
   "outputs": [
    {
     "data": {
      "text/plain": [
       "0"
      ]
     },
     "execution_count": 9,
     "metadata": {},
     "output_type": "execute_result"
    }
   ],
   "source": [
    "os.chdir(\"/mnt/Omer/Project/07.DeepElectrodeMapping/kato/3Dresults/0528/vtk/anime\")\n",
    "subprocess.call(['ffmpeg','-i','img.%04d.png','anime1.wmv'])"
   ]
  },
  {
   "cell_type": "code",
   "execution_count": 10,
   "metadata": {
    "collapsed": false
   },
   "outputs": [
    {
     "data": {
      "text/plain": [
       "0"
      ]
     },
     "execution_count": 10,
     "metadata": {},
     "output_type": "execute_result"
    }
   ],
   "source": [
    "os.chdir(\"/mnt/Omer/Project/07.DeepElectrodeMapping/kato/3Dresults/0528/csv/anime\")\n",
    "subprocess.call(['ffmpeg','-i','pcd.%04d.png','anime1.wmv'])"
   ]
  },
  {
   "cell_type": "code",
   "execution_count": 15,
   "metadata": {
    "collapsed": false
   },
   "outputs": [
    {
     "data": {
      "text/plain": [
       "0"
      ]
     },
     "execution_count": 15,
     "metadata": {},
     "output_type": "execute_result"
    }
   ],
   "source": [
    "os.chdir(\"/mnt/Omer/Project/07.DeepElectrodeMapping/kato/3Dresults/0528/csv/anime\")\n",
    "subprocess.call(['ffmpeg','-framerate','5','-i','pcd.%04d.png','anime2.wmv'])"
   ]
  },
  {
   "cell_type": "code",
   "execution_count": null,
   "metadata": {
    "collapsed": true
   },
   "outputs": [],
   "source": []
  }
 ],
 "metadata": {
  "kernelspec": {
   "display_name": "Python 2",
   "language": "python",
   "name": "python2"
  },
  "language_info": {
   "codemirror_mode": {
    "name": "ipython",
    "version": 2
   },
   "file_extension": ".py",
   "mimetype": "text/x-python",
   "name": "python",
   "nbconvert_exporter": "python",
   "pygments_lexer": "ipython2",
   "version": "2.7.15"
  }
 },
 "nbformat": 4,
 "nbformat_minor": 2
}
