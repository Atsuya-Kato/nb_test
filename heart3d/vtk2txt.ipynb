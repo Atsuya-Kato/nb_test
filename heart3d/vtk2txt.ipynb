{
 "cells": [
  {
   "cell_type": "code",
   "execution_count": 29,
   "metadata": {
    "collapsed": false
   },
   "outputs": [],
   "source": [
    "import vtk\n",
    "import numpy as np"
   ]
  },
  {
   "cell_type": "code",
   "execution_count": 30,
   "metadata": {
    "collapsed": true
   },
   "outputs": [],
   "source": [
    "from vtk import vtkStructuredPointsReader\n",
    "from vtk.util import numpy_support as VN"
   ]
  },
  {
   "cell_type": "code",
   "execution_count": 31,
   "metadata": {
    "collapsed": false
   },
   "outputs": [],
   "source": [
    "for j in range(900):\n",
    "    num = \"{0:05d}\".format(j)\n",
    "    filename = \"/mnt/Omer/Project/07.DeepElectrodeMapping/kato/3Dresults/0528/out_%s.vtk\"%num\n",
    "    reader = vtk.vtkGenericDataObjectReader()\n",
    "    reader.SetFileName(filename)\n",
    "    reader.Update()\n",
    "    data = reader.GetOutput()\n",
    "    v = VN.vtk_to_numpy(data.GetPointData().GetScalars()).reshape(data.GetDimensions())\n",
    "    z,y,x = np.where(v>0)\n",
    "    with open('/mnt/Omer/Project/07.DeepElectrodeMapping/kato/pc_sample_%s.txt'%num,'w') as outf:\n",
    "        for i in range(len(z)):\n",
    "            outf.write('{0}   {1}   {2}   {3}\\n'.format(z[i],y[i],x[i],v[z[i],y[i],x[i]]))\n",
    "        \n",
    "        "
   ]
  },
  {
   "cell_type": "code",
   "execution_count": 19,
   "metadata": {
    "collapsed": false
   },
   "outputs": [],
   "source": [
    "filename = \"/mnt/Omer/Project/07.DeepElectrodeMapping/kato/3Dresults/0528/out_00000.vtk\"\n"
   ]
  },
  {
   "cell_type": "code",
   "execution_count": 20,
   "metadata": {
    "collapsed": true
   },
   "outputs": [],
   "source": [
    "reader = vtk.vtkGenericDataObjectReader()"
   ]
  },
  {
   "cell_type": "code",
   "execution_count": 21,
   "metadata": {
    "collapsed": true
   },
   "outputs": [],
   "source": [
    "reader.SetFileName(filename)\n",
    "reader.Update()"
   ]
  },
  {
   "cell_type": "code",
   "execution_count": 22,
   "metadata": {
    "collapsed": true
   },
   "outputs": [],
   "source": [
    "data = reader.GetOutput()"
   ]
  },
  {
   "cell_type": "code",
   "execution_count": 23,
   "metadata": {
    "collapsed": false
   },
   "outputs": [
    {
     "data": {
      "text/plain": [
       "(128, 128, 128)"
      ]
     },
     "execution_count": 23,
     "metadata": {},
     "output_type": "execute_result"
    }
   ],
   "source": [
    "v = VN.vtk_to_numpy(data.GetPointData().GetScalars()).reshape(data.GetDimensions())\n",
    "v.shape"
   ]
  },
  {
   "cell_type": "code",
   "execution_count": null,
   "metadata": {
    "collapsed": true
   },
   "outputs": [],
   "source": [
    "import matplotlib.pyplot as plt\n",
    "%matplotlib inline"
   ]
  },
  {
   "cell_type": "code",
   "execution_count": null,
   "metadata": {
    "collapsed": true
   },
   "outputs": [],
   "source": [
    "plt.subplot(131)\n",
    "plt.imshow(v[0,:,:])\n",
    "plt.subplot(132)\n",
    "plt.imshow(v[:,32,:])\n",
    "plt.subplot(133)\n",
    "plt.imshow(v[:,:,32])"
   ]
  },
  {
   "cell_type": "code",
   "execution_count": null,
   "metadata": {
    "collapsed": true
   },
   "outputs": [],
   "source": [
    "z,y,x = np.where(v>0)\n",
    "with open('./pc_sample.txt','w') as outf:\n",
    "    for i in range(len(z)):\n",
    "        outf.write('{0}  {1} {2} {3}\\n'.format(z[i],y[i],x[i],v[z[i],y[i],x[i]]))\n",
    "        \n",
    "        "
   ]
  },
  {
   "cell_type": "code",
   "execution_count": null,
   "metadata": {
    "collapsed": true
   },
   "outputs": [],
   "source": [
    "z,y,x = np.where(v>0)\n",
    "with open('./pc_sample.txt','w') as outf:\n",
    "    for i in range(len(z)):\n",
    "        outf.write('{0} {1} {2} {3}\\n'.format(z[i],y[i],x[i],v[z[i],y[i],x[i]]))\n",
    "        \n",
    "        "
   ]
  }
 ],
 "metadata": {
  "kernelspec": {
   "display_name": "Python 2",
   "language": "python",
   "name": "python2"
  },
  "language_info": {
   "codemirror_mode": {
    "name": "ipython",
    "version": 2
   },
   "file_extension": ".py",
   "mimetype": "text/x-python",
   "name": "python",
   "nbconvert_exporter": "python",
   "pygments_lexer": "ipython2",
   "version": "2.7.15"
  }
 },
 "nbformat": 4,
 "nbformat_minor": 2
}
