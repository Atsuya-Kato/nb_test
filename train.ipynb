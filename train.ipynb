{
 "cells": [
  {
   "cell_type": "code",
   "execution_count": null,
   "metadata": {
    "collapsed": true
   },
   "outputs": [],
   "source": [
    "import importlib\n",
    "import numpy as np\n",
    "import os\n",
    "import glob\n",
    "import matplotlib\n",
    "import matplotlib.pyplot as plt\n",
    "from matplotlib import animation, rc\n",
    "from IPython.display import HTML\n",
    "% matplotlib inline\n",
    "import tensorflow as tf\n",
    "from keras import backend as K\n",
    "import pickle\n",
    "from keras.optimizers import Adam\n",
    "from keras.callbacks import ModelCheckpoint, EarlyStopping, ReduceLROnPlateau\n",
    "import random\n",
    "import cv2 as cv\n",
    "import shutil\n",
    "import scipy.signal as signal\n",
    "import scipy\n",
    "​\n",
    "import preprocess.filesProc as filesProc\n",
    "import preprocess.pseudoEcg as pseudoEcg\n",
    "import preprocess.ecg as Ecg\n",
    "import dataProc\n",
    "import opdata\n",
    "import analysis\n",
    "import utils\n",
    "import resUnet3d\n",
    "import visualize"
   ]
  },
  {
   "cell_type": "code",
   "execution_count": null,
   "metadata": {
    "collapsed": true
   },
   "outputs": [],
   "source": [
    "elec_pos = np.zeros((25, 2), np.float32)\n",
    "x_ = np.linspace(93/10, 93-93/10, 5)\n",
    "for i in range(5):\n",
    "    elec_pos[i*5:(i+1)*5, 0] = x_\n",
    "    elec_pos[i*5:(i+1)*5, 1] = np.flip(x_, 0)[i]\n",
    "print(elec_pos)"
   ]
  },
  {
   "cell_type": "code",
   "execution_count": null,
   "metadata": {
    "collapsed": true
   },
   "outputs": [],
   "source": [
    "train_path_share = '/mnt/Omer/Project/07.DeepElectrodeMapping/processed_data/20190628_1/train/'\n",
    "test_path_share = '/mnt/Omer/Project/07.DeepElectrodeMapping/processed_data/20190628_1/test/'\n",
    "train_path = '/mnt/Omer/Project/07.DeepElectrodeMapping/processed_data/20190710_1/train/'\n",
    "test_path = '/mnt/Omer/Project/07.DeepElectrodeMapping/processed_data/20190710_1/test/"
   ]
  },
  {
   "cell_type": "code",
   "execution_count": null,
   "metadata": {
    "collapsed": true
   },
   "outputs": [],
   "source": [
    "z_dist_list = [2, 4, 6, 8, 10]\n",
    "gnd_pos = np.array([[-93, 46, 10]], np.float32)"
   ]
  },
  {
   "cell_type": "code",
   "execution_count": null,
   "metadata": {
    "collapsed": true
   },
   "outputs": [],
   "source": [
    "filesProc.getPecgWithRandomElec(os.path.join(train_path_share, 'phie'), train_path, elec_pos, z_dist_list, 8, gnd_pos, (93, 93))\n",
    "filesProc.getPecgWithRandomElec(os.path.join(test_path_share, 'phie'), test_path, elec_pos, z_dist_list, 8, gnd_pos, (93, 93))"
   ]
  },
  {
   "cell_type": "code",
   "execution_count": null,
   "metadata": {
    "collapsed": true
   },
   "outputs": [],
   "source": [
    "shutil.rmtree('./temp/train_0710_pecg')\n",
    "shutil.rmtree('./temp/train_0710_vmem')\n",
    "shutil.rmtree('./temp/val_0710_pecg')\n",
    "shutil.rmtree('./temp/val_0710_vmem')"
   ]
  },
  {
   "cell_type": "code",
   "execution_count": null,
   "metadata": {
    "collapsed": true
   },
   "outputs": [],
   "source": [
    "temp_train_pecg_path = './temp/train_0710_pecg'\n",
    "filesProc.save3dBlocks(os.path.join(train_path, 'pecg'), 320, temp_train_pecg_path, 3, resize=True, dsize=(32, 32))"
   ]
  },
  {
   "cell_type": "code",
   "execution_count": null,
   "metadata": {
    "collapsed": true
   },
   "outputs": [],
   "source": [
    "temp_train_vmem_path = './temp/train_0710_vmem'\n",
    "filesProc.save3dBlocks(os.path.join(train_path_share, 'vmem'), 320, temp_train_vmem_path, 2, resize=True, dsize=(32, 32), repetition=8)"
   ]
  },
  {
   "cell_type": "code",
   "execution_count": null,
   "metadata": {
    "collapsed": true
   },
   "outputs": [],
   "source": [
    "temp_val_pecg_path = './temp/val_0710_pecg'\n",
    "temp_val_vmem_path = './temp/val_0710_vmem'"
   ]
  },
  {
   "cell_type": "code",
   "execution_count": null,
   "metadata": {
    "collapsed": true
   },
   "outputs": [],
   "source": [
    "pecg_blocks_paths = sorted(glob.glob(os.path.join(temp_train_pecg_path, '*.npy')))\n",
    "vmem_blocks_paths = sorted(glob.glob(os.path.join(temp_train_vmem_path, '*.npy')))\n",
    "combined = list(zip(pecg_blocks_paths, vmem_blocks_paths))\n",
    "random.shuffle(combined)\n",
    "val_blocks_num = int(len(vmem_blocks_paths)*0.2)\n",
    "pecg_blocks_paths_rdm, vmem_blocks_paths_rdm = zip(*combined)\n",
    "val_pecg_blocks_paths = pecg_blocks_paths_rdm[0: val_blocks_num]\n",
    "val_vmem_blocks_paths = vmem_blocks_paths_rdm[0: val_blocks_num]\n",
    "print(val_pecg_blocks_paths)\n",
    "print(val_vmem_blocks_paths)"
   ]
  },
  {
   "cell_type": "code",
   "execution_count": null,
   "metadata": {
    "collapsed": true
   },
   "outputs": [],
   "source": [
    "os.makedirs(temp_val_pecg_path)\n",
    "os.makedirs(temp_val_vmem_path)"
   ]
  },
  {
   "cell_type": "code",
   "execution_count": null,
   "metadata": {
    "collapsed": true
   },
   "outputs": [],
   "source": [
    "for i in range(val_blocks_num):\n",
    "    shutil.move(val_pecg_blocks_paths[i], temp_val_pecg_path)\n",
    "    shutil.move(val_vmem_blocks_paths[i], temp_val_vmem_path)"
   ]
  },
  {
   "cell_type": "code",
   "execution_count": null,
   "metadata": {
    "collapsed": true
   },
   "outputs": [],
   "source": [
    "# limit GPU memory usage\n",
    "config = tf.ConfigProto()\n",
    "config.gpu_options.per_process_gpu_memory_fraction = 0.85\n",
    "session = tf.Session(config=config)"
   ]
  },
  {
   "cell_type": "code",
   "execution_count": null,
   "metadata": {
    "collapsed": true
   },
   "outputs": [],
   "source": [
    "model_dir = '/mnt/Omer/Project/07.DeepElectrodeMapping/model/20190710_1'"
   ]
  },
  {
   "cell_type": "code",
   "execution_count": null,
   "metadata": {
    "collapsed": true
   },
   "outputs": [],
   "source": [
    "os.makedirs(model_dir)"
   ]
  },
  {
   "cell_type": "code",
   "execution_count": null,
   "metadata": {
    "collapsed": true
   },
   "outputs": [],
   "source": [
    "netg = resUnet3d.getModel(320, 32, 32, 1, 4, 32, 16, 'sigmoid')\n",
    "netg.summary()"
   ]
  },
  {
   "cell_type": "code",
   "execution_count": null,
   "metadata": {
    "collapsed": true
   },
   "outputs": [],
   "source": [
    "netg.compile(optimizer=Adam(lr=1e-4), loss='mae', metrics=['mae', 'mse'])"
   ]
  },
  {
   "cell_type": "code",
   "execution_count": null,
   "metadata": {
    "collapsed": true
   },
   "outputs": [],
   "source": [
    "checkpointer = ModelCheckpoint(os.path.join(model_dir, 'netg.h5'), monitor='val_mean_absolute_error', verbose=1,\n",
    "                               save_best_only=True, save_weights_only=True, mode='min')\n",
    "learning_rate = ReduceLROnPlateau('val_mean_absolute_error', 0.1, 10, 1, 'auto', 1e-4, min_lr=1e-8)\n",
    "early_stopping = EarlyStopping(patience=20, verbose=1)\n",
    "callbacks = [checkpointer, learning_rate, early_stopping]"
   ]
  },
  {
   "cell_type": "code",
   "execution_count": null,
   "metadata": {
    "collapsed": true
   },
   "outputs": [],
   "source": [
    "# netg.load_weights('/mnt/Omer/Project/07.DeepElectrodeMapping/model/20190628_1/netg_2.h5')"
   ]
  },
  {
   "cell_type": "code",
   "execution_count": null,
   "metadata": {
    "collapsed": true
   },
   "outputs": [],
   "source": [
    "pecg_block_train_paths = sorted(glob.glob(os.path.join(temp_train_pecg_path, '*.npy')))\n",
    "vmem_block_train_paths = sorted(glob.glob(os.path.join(temp_train_vmem_path, '*.npy')))\n",
    "generator_train = utils.GeneratorCnn3d(pecg_block_train_paths, vmem_block_train_paths, 4, (320, 32, 32, 1))\n",
    "pecg_block_val_paths = sorted(glob.glob(os.path.join(temp_val_pecg_path, '*.npy')))\n",
    "vmem_block_val_paths = sorted(glob.glob(os.path.join(temp_val_vmem_path, '*.npy')))\n",
    "generator_val = utils.GeneratorCnn3d(pecg_block_val_paths, vmem_block_val_paths, 4, (320, 32, 32, 1))"
   ]
  },
  {
   "cell_type": "code",
   "execution_count": null,
   "metadata": {
    "collapsed": true
   },
   "outputs": [],
   "source": [
    "netg.fit_generator(generator_train, epochs=200, verbose=2, callbacks=callbacks, validation_data=generator_val,\n",
    "                             use_multiprocessing=True, workers=4, max_queue_size=16)"
   ]
  },
  {
   "cell_type": "code",
   "execution_count": null,
   "metadata": {
    "collapsed": true
   },
   "outputs": [],
   "source": [
    "with open(os.path.join(model_dir, 'history.pickle'), 'wb') as history_file:\n",
    "    pickle.dump(netg.history.history, history_file)"
   ]
  }
 ],
 "metadata": {
  "kernelspec": {
   "display_name": "Python 2",
   "language": "python",
   "name": "python2"
  },
  "language_info": {
   "codemirror_mode": {
    "name": "ipython",
    "version": 2
   },
   "file_extension": ".py",
   "mimetype": "text/x-python",
   "name": "python",
   "nbconvert_exporter": "python",
   "pygments_lexer": "ipython2",
   "version": "2.7.15"
  }
 },
 "nbformat": 4,
 "nbformat_minor": 2
}
