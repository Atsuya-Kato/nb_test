{
 "cells": [
  {
   "cell_type": "code",
   "execution_count": 1,
   "metadata": {
    "collapsed": false
   },
   "outputs": [],
   "source": [
    "import math\n"
   ]
  },
  {
   "cell_type": "code",
   "execution_count": 14,
   "metadata": {
    "collapsed": false
   },
   "outputs": [],
   "source": [
    "ibarnak=1.0933\n",
    "fnak=(-81.2+150)/(-81.2+200)\n",
    "kmnai = 10\n",
    "nai =11.2\n",
    "ko = 4.5\n",
    "kmko = 1.5\n",
    "R= 8314\n",
    "temp =310\n",
    "frdy =96485\n",
    "nao =140\n",
    "nai =11.2\n",
    "gammas = 0.35\n",
    "_v=-81.2\n",
    "cao = 1.8\n",
    "cai = 0.000102\n",
    "kmnancx = 87.5\n",
    "kmcancx = 1.38\n",
    "ksatncx = 0.1\n",
    "ki= 139\n",
    "xr = 0.0000329\n",
    "xs= 0.0187\n",
    "gito = 0.1652\n",
    "ato= 0.0304\n",
    "iito = 0.999\n",
    "uakur = 0.00496\n",
    "uikur = 0.999\n",
    "gkach = 0.135\n",
    "yach = 0.0254\n",
    "d =0.000137\n",
    "f =0.999837\n",
    "fca = 0.775\n",
    "gcalbar = 0.1238\n",
    "ko= 4.5"
   ]
  },
  {
   "cell_type": "code",
   "execution_count": 3,
   "metadata": {
    "collapsed": false
   },
   "outputs": [
    {
     "data": {
      "text/plain": [
       "0.25756642827123455"
      ]
     },
     "execution_count": 3,
     "metadata": {},
     "output_type": "execute_result"
    }
   ],
   "source": [
    "inak = ibarnak*fnak*(1/(1+pow((kmnai/nai),1.5)))*(ko/(ko+kmko));\n",
    "inak"
   ]
  },
  {
   "cell_type": "code",
   "execution_count": 4,
   "metadata": {
    "collapsed": false
   },
   "outputs": [
    {
     "data": {
      "text/plain": [
       "-3.2157485440796036"
      ]
     },
     "execution_count": 4,
     "metadata": {},
     "output_type": "execute_result"
    }
   ],
   "source": [
    "inaca = 1750*(math.exp(gammas*frdy*_v/(R*temp))*nai*nai*nai*cao-math.exp((gammas-1)*frdy*_v/(R*temp))*nao*nao*nao*cai)/((pow(kmnancx,3))+pow(nao,3))*(kmcancx+cao)*(1+ksatncx*math.exp((gammas-1)*frdy*_v/(R*temp)))\n",
    "inaca"
   ]
  },
  {
   "cell_type": "code",
   "execution_count": 5,
   "metadata": {
    "collapsed": false
   },
   "outputs": [
    {
     "data": {
      "text/plain": [
       "6.706187564484771e-06"
      ]
     },
     "execution_count": 5,
     "metadata": {},
     "output_type": "execute_result"
    }
   ],
   "source": [
    "gkr = 0.0294*math.sqrt(ko/5.4);\n",
    "ekr = ((R*temp)/frdy)*math.log(ko/ki);\n",
    "\n",
    "xrss = 1/(1+math.exp(-(_v+14.1)/6.5));\n",
    "tauxr = 1/(0.0003*(_v+14.1)/(1-math.exp(-(_v+14.1)/5))+0.000073898*(_v-3.3328)/(math.exp((_v-3.3328)/5.1237)-1));\n",
    "\n",
    "r = 1/(1+math.exp((_v+15)/22.4));\n",
    "ikr = gkr*xr*r*(_v-ekr);\n",
    "ikr"
   ]
  },
  {
   "cell_type": "code",
   "execution_count": 6,
   "metadata": {
    "collapsed": false
   },
   "outputs": [
    {
     "data": {
      "text/plain": [
       "0.00036044296153174186"
      ]
     },
     "execution_count": 6,
     "metadata": {},
     "output_type": "execute_result"
    }
   ],
   "source": [
    "\n",
    "gks = 0.129\n",
    "eks = ((R*temp)/frdy)*math.log(ko/ki);\n",
    "iks = gks*xs*xs*(_v-eks);\n",
    "iks"
   ]
  },
  {
   "cell_type": "code",
   "execution_count": 7,
   "metadata": {
    "collapsed": false
   },
   "outputs": [
    {
     "data": {
      "text/plain": [
       "3.7047585417206e-05"
      ]
     },
     "execution_count": 7,
     "metadata": {},
     "output_type": "execute_result"
    }
   ],
   "source": [
    "erevto = ((R*temp)/frdy)*math.log(ko/ki)\n",
    "ito = gito*ato*ato*ato*iito*(_v-erevto);\n",
    "ito"
   ]
  },
  {
   "cell_type": "code",
   "execution_count": 8,
   "metadata": {
    "collapsed": false
   },
   "outputs": [
    {
     "data": {
      "text/plain": [
       "4.8999211666697736e-09"
      ]
     },
     "execution_count": 8,
     "metadata": {},
     "output_type": "execute_result"
    }
   ],
   "source": [
    "gkur = 0.005+0.05/(1+math.exp(-(_v-15)/13))\n",
    "ekur = ((R*temp)/frdy)*math.log(ko/ki);\n",
    "ikur = gkur*uakur*uakur*uakur*uikur*(_v-ekur)\n",
    "ikur"
   ]
  },
  {
   "cell_type": "code",
   "execution_count": 9,
   "metadata": {
    "collapsed": false
   },
   "outputs": [
    {
     "data": {
      "text/plain": [
       "0.02617164470195086"
      ]
     },
     "execution_count": 9,
     "metadata": {},
     "output_type": "execute_result"
    }
   ],
   "source": [
    "ekach = ((R*temp)/frdy)*math.log(ko/ki)\n",
    "\n",
    "ikach = gkach*yach*(_v-ekach)/(1+math.exp((_v+20)/20));\n",
    "ikach\n"
   ]
  },
  {
   "cell_type": "code",
   "execution_count": 10,
   "metadata": {
    "collapsed": false
   },
   "outputs": [
    {
     "data": {
      "text/plain": [
       "-0.0019214075425123707"
      ]
     },
     "execution_count": 10,
     "metadata": {},
     "output_type": "execute_result"
    }
   ],
   "source": [
    "dss = 1/(1+math.exp(-(_v+10)/8))\n",
    "fss = 1/(1+math.exp((_v+28)/6.9));\n",
    "fcass = 1/(1+cai/0.00035);\n",
    "\n",
    "ibarca = gcalbar*(_v-65);\n",
    "ilca = d*f*fca*ibarca;\n",
    "ilca"
   ]
  },
  {
   "cell_type": "code",
   "execution_count": 11,
   "metadata": {
    "collapsed": false
   },
   "outputs": [
    {
     "data": {
      "text/plain": [
       "-89.19030994521486"
      ]
     },
     "execution_count": 11,
     "metadata": {},
     "output_type": "execute_result"
    }
   ],
   "source": [
    "ekr = ((R*temp)/frdy)*math.log(ko/ki);\n",
    "ekr"
   ]
  },
  {
   "cell_type": "code",
   "execution_count": 12,
   "metadata": {
    "collapsed": false
   },
   "outputs": [
    {
     "data": {
      "text/plain": [
       "-89.19030994521486"
      ]
     },
     "execution_count": 12,
     "metadata": {},
     "output_type": "execute_result"
    }
   ],
   "source": [
    "ekach"
   ]
  },
  {
   "cell_type": "code",
   "execution_count": 16,
   "metadata": {
    "collapsed": false
   },
   "outputs": [
    {
     "data": {
      "text/plain": [
       "0.08367004662973705"
      ]
     },
     "execution_count": 16,
     "metadata": {},
     "output_type": "execute_result"
    }
   ],
   "source": [
    "gki = 0.09*pow(ko/5.4,0.4)\n",
    "gki"
   ]
  },
  {
   "cell_type": "code",
   "execution_count": null,
   "metadata": {
    "collapsed": true
   },
   "outputs": [],
   "source": [
    "eki = ((R*temp)/frdy)*log(ko/ki);"
   ]
  }
 ],
 "metadata": {
  "kernelspec": {
   "display_name": "Python 2",
   "language": "python",
   "name": "python2"
  },
  "language_info": {
   "codemirror_mode": {
    "name": "ipython",
    "version": 2
   },
   "file_extension": ".py",
   "mimetype": "text/x-python",
   "name": "python",
   "nbconvert_exporter": "python",
   "pygments_lexer": "ipython2",
   "version": "2.7.15"
  }
 },
 "nbformat": 4,
 "nbformat_minor": 2
}
