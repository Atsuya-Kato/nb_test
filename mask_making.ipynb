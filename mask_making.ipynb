{
 "cells": [
  {
   "cell_type": "code",
   "execution_count": 1,
   "metadata": {
    "collapsed": true
   },
   "outputs": [],
   "source": [
    "import numpy as np"
   ]
  },
  {
   "cell_type": "code",
   "execution_count": 2,
   "metadata": {
    "collapsed": true
   },
   "outputs": [],
   "source": [
    "x_data1 = np.random.rand(10,3).astype(np.float32)\n",
    "np.save('test_x.npy', x_data1)"
   ]
  },
  {
   "cell_type": "code",
   "execution_count": 3,
   "metadata": {
    "collapsed": true
   },
   "outputs": [],
   "source": [
    "mask= np.full((400, 400), 1.4)"
   ]
  },
  {
   "cell_type": "code",
   "execution_count": 4,
   "metadata": {
    "collapsed": false
   },
   "outputs": [
    {
     "name": "stdout",
     "output_type": "stream",
     "text": [
      "[[ 1.4  1.4  1.4 ...,  1.4  1.4  1.4]\n",
      " [ 1.4  1.4  1.4 ...,  1.4  1.4  1.4]\n",
      " [ 1.4  1.4  1.4 ...,  1.4  1.4  1.4]\n",
      " ..., \n",
      " [ 1.4  1.4  1.4 ...,  1.4  1.4  1.4]\n",
      " [ 1.4  1.4  1.4 ...,  1.4  1.4  1.4]\n",
      " [ 1.4  1.4  1.4 ...,  1.4  1.4  1.4]]\n"
     ]
    }
   ],
   "source": [
    "print mask"
   ]
  },
  {
   "cell_type": "code",
   "execution_count": null,
   "metadata": {
    "collapsed": true
   },
   "outputs": [],
   "source": []
  }
 ],
 "metadata": {
  "kernelspec": {
   "display_name": "Python 2",
   "language": "python",
   "name": "python2"
  },
  "language_info": {
   "codemirror_mode": {
    "name": "ipython",
    "version": 2
   },
   "file_extension": ".py",
   "mimetype": "text/x-python",
   "name": "python",
   "nbconvert_exporter": "python",
   "pygments_lexer": "ipython2",
   "version": "2.7.15"
  }
 },
 "nbformat": 4,
 "nbformat_minor": 2
}
