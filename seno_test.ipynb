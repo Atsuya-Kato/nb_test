{
 "cells": [
  {
   "cell_type": "code",
   "execution_count": 1,
   "metadata": {
    "collapsed": false
   },
   "outputs": [
    {
     "name": "stderr",
     "output_type": "stream",
     "text": [
      "pyculib:1: ImportWarning: Numba version too old; expecting 0.33.0\n"
     ]
    }
   ],
   "source": [
    "#!/usr/local/bin/python\n",
    "\n",
    "import os, sys\n",
    "import json\n",
    "import numpy as np\n",
    "import matplotlib.pyplot as plt\n",
    "import chainer\n",
    "from chainer import cuda\n",
    "from matplotlib import animation\n",
    "from optparse import OptionParser\n",
    "\n",
    "from elecpy.util.cmap_bipolar import bipolar\n",
    "import elecpy.elecpy as elp\n",
    "\n",
    "from matplotlib import animation, rc\n",
    "from IPython.display import HTML\n",
    "\n",
    "import time\n",
    "\n",
    "import json\n",
    "\n",
    "%matplotlib inline"
   ]
  },
  {
   "cell_type": "code",
   "execution_count": 2,
   "metadata": {
    "collapsed": false
   },
   "outputs": [],
   "source": [
    "from elecpy.cell.test_ import test"
   ]
  },
  {
   "cell_type": "code",
   "execution_count": 4,
   "metadata": {
    "collapsed": true
   },
   "outputs": [],
   "source": [
    "shape = (1,1)"
   ]
  },
  {
   "cell_type": "code",
   "execution_count": 10,
   "metadata": {
    "collapsed": false
   },
   "outputs": [],
   "source": [
    "with open ('./elecpy/temp/pacing_params.json','r') as f:\n",
    "    pacing_params = json.load(f)"
   ]
  },
  {
   "cell_type": "code",
   "execution_count": 17,
   "metadata": {
    "collapsed": false
   },
   "outputs": [
    {
     "data": {
      "text/plain": [
       "{u'cell_param': {},\n",
       " u'cell_type': 'courtmanche',\n",
       " u'stim': {u'amplitude': -80.0,\n",
       "  u'duration': 0.5,\n",
       "  u'interval': 400.0,\n",
       "  u'start': 0.0,\n",
       "  u'train': 20},\n",
       " u'time': {u'dt': 0.005, u'log_cnt': 200}}"
      ]
     },
     "execution_count": 17,
     "metadata": {},
     "output_type": "execute_result"
    }
   ],
   "source": [
    "pacing_params['cell_type'] = 'courtmanche'\n",
    "pacing_params"
   ]
  },
  {
   "cell_type": "code",
   "execution_count": 54,
   "metadata": {
    "collapsed": false
   },
   "outputs": [],
   "source": [
    "from courtmanche.model import model as courtmanche\n",
    "from luorudy.model import model as luorudy\n",
    "model_l = luorudy(shape)\n",
    "model_c = courtmanche(shape)"
   ]
  },
  {
   "cell_type": "code",
   "execution_count": 64,
   "metadata": {
    "collapsed": false
   },
   "outputs": [],
   "source": [
    "model_l.update()"
   ]
  },
  {
   "cell_type": "code",
   "execution_count": 55,
   "metadata": {
    "collapsed": false
   },
   "outputs": [],
   "source": [
    "model_c.update()"
   ]
  },
  {
   "cell_type": "code",
   "execution_count": 82,
   "metadata": {
    "collapsed": false
   },
   "outputs": [],
   "source": [
    "string_args = ''\n",
    "string_rets = ''\n",
    "\n",
    "for i, key in enumerate(model_l.params) :\n",
    "    string_args += 'T {0}, '.format(key)\n",
    "    string_rets += 'T _{0}, '.format(key)\n",
    "string_args = string_args.rstrip(', ')\n",
    "string_rets = string_rets.rstrip(', ')"
   ]
  },
  {
   "cell_type": "code",
   "execution_count": 83,
   "metadata": {
    "collapsed": false
   },
   "outputs": [
    {
     "data": {
      "text/plain": [
       "'int _maskPosi;\\nint _maskNega;\\nint _maskPosiPosi;\\nint _maskPosiNega;\\nint _maskA;\\nint _maskA_bar;\\nint _maskB;\\nint _maskB_bar;\\n\\n_v = v;\\n\\n// voltage trapping to avoid error\\n_maskPosi =  ( _v < 0.00001 ) * 1;\\n_maskPosi *= ( _v >= 0 ) * 1;\\n_maskNega = ( _maskPosi == 0 ) * 1;\\n_v = _maskPosi * 0.00001 + _maskNega * _v;\\n_maskPosi =  ( _v > -0.00001 ) * 1;\\n_maskPosi *= ( _v <= 0 ) * 1;\\n_maskNega = ( _maskPosi == 0 ) * 1;\\n_v = _maskPosi * -0.00001 + _maskNega * _v;\\n\\n_maskPosi =  ( _v < -30.0+0.001 ) * 1;\\n_maskPosi *= ( _v >= -30.0 ) * 1;\\n_maskNega = ( _maskPosi == 0 ) * 1;\\n_v = _maskPosi * (-30.0+0.001)+ _maskNega * _v;\\n_maskPosi =  ( _v > -30.0 -0.001 ) * 1;\\n_maskPosi *= ( _v <= -30.0 ) * 1;\\n_maskNega = ( _maskPosi == 0 ) * 1;\\n_v = _maskPosi * (-30.0-0.001) + _maskNega * _v;\\n\\n// comp_ina ()\\ndouble _shift_inf_m = 0.8*(temp-310.0);\\ndouble _shift_inf_hj = 0.7*(temp-310.0);\\n\\ndouble _ena = ((8314*temp)/96485)*log(130.0/nai);\\n_maskPosi = (_v >= -95.0 + _shift_inf_m) * 1;\\n_maskNega = (_maskPosi == 0) * 1;\\ndouble _lv = (_v - _shift_inf_m)*_maskPosi + (-95.0 - _shift_inf_m)*_maskNega;\\ndouble _am = (0.32*(_lv+47.13)/(1-exp(-0.1*(_lv+47.13))))*pow(2.79, (temp-310.0)/10.0);\\ndouble _bm = (0.08*exp(-_lv/11))*pow(2.79, (temp-310.0)/10.0);\\n\\n_maskPosi = (_v < -40+_shift_inf_hj)*1;\\n_maskNega = (_maskPosi == 0)*1;\\n_maskPosiPosi = (_v >= -135.0+_shift_inf_hj)*1;\\n_maskPosiNega = (_maskPosiPosi == 0)*1;\\ndouble _ah = (0.135*exp(-(80+((_v-_shift_inf_hj)*_maskPosiPosi-135.0*_maskPosiNega))/6.8)*_maskPosi + 0)*pow(2.79, (temp-310.0)/10.0);\\ndouble _bh = ((3.56*exp(0.079*((_v-_shift_inf_hj)*_maskPosiPosi-135.0*_maskPosiNega))+310000*exp(0.35*((_v-_shift_inf_hj)*_maskPosiPosi-135.0*_maskPosiNega)))*_maskPosi + (1/(0.13*(1+exp(-(_v-_shift_inf_hj+10.66)/11.1)))) * _maskNega)*pow(2.79, (temp-310.0)/10.0);\\n\\n_maskPosiPosi = (_v >= -240.0+_shift_inf_hj)*1;\\n_maskPosiNega = (_maskPosiPosi == 0)*1;\\ndouble _aj = (((-127140*exp(0.2444*((_v-_shift_inf_hj)*_maskPosiPosi-240.0*_maskPosiNega))-0.00003474*exp(-0.04391*((_v-_shift_inf_hj)*_maskPosiPosi-240.0*_maskPosiNega)))*((((_v-_shift_inf_hj)*_maskPosiPosi-240.0*_maskPosiNega)+37.78)/(1+exp(0.311*(((_v-_shift_inf_hj)*_maskPosiPosi-240.0*_maskPosiNega)+79.23))))) * _maskPosi + 0)*pow(2.79, (temp-310.0)/10.0);\\ndouble _bj = (((0.1212*exp(-0.01052*((_v-_shift_inf_hj)*_maskPosiPosi-240.0*_maskPosiNega)))/(1+exp(-0.1378*(((_v-_shift_inf_hj)*_maskPosiPosi-240.0*_maskPosiNega)+40.14))))*_maskPosi + ((0.3*exp(-0.0000002535*(_v-_shift_inf_hj)))/(1+exp(-0.1*((_v-_shift_inf_hj)+32))))*_maskNega)*pow(2.79, (temp-310.0)/10.0);\\n\\ndouble _mtau = 1 / (_am+_bm);\\ndouble _htau = 1 / (_ah+_bh);\\ndouble _jtau = 1 / (_aj+_bj);\\ndouble _mss  = _am * _mtau;\\ndouble _hss  = _ah * _htau;\\ndouble _jss  = _aj * _jtau;\\n_m = _mss - (_mss-m)*exp(-dt/_mtau);\\n_h = _hss - (_hss-h)*exp(-dt/_htau);\\n_j = _jss - (_jss-j)*exp(-dt/_jtau);\\ndouble _gna = 16*pow(1.5, (temp-310.0)/10.0);\\n_ina = _gna*_m*_m*_m*_h*_j*(_v-_ena);\\n\\n// comp_ltypesc\\n//   +- comp_rates\\ndouble _alphaequation = 0.925*exp(_v/30);\\ndouble _betaequation = 0.39*exp(-_v/40);\\ndouble _alpha0 = 4*_alphaequation;\\ndouble _alpha1 = 3*_alphaequation;\\ndouble _alpha2 = 2*_alphaequation;\\ndouble _alpha3 = 1*_alphaequation;\\ndouble _beta0 = 1*_betaequation;\\ndouble _beta1 = 2*_betaequation;\\ndouble _beta2 = 3*_betaequation;\\ndouble _beta3 = 4*_betaequation;\\ndouble _gammmaf = 0.245*exp(_v/10);\\ndouble _gammmas = 0.005*exp(-_v/40);\\ndouble _phif = 0.02*exp(_v/500);\\ndouble _phis = 0.03*exp(-_v/280);\\ndouble _lambdaf = 0.035*exp(-_v/300);\\ndouble _lambdas = 0.0011*exp(_v/500);\\ndouble _omgegaf = (_lambdaf*_beta3*_gammmaf)/(_phif*_alpha3);\\ndouble _omgegas = (_lambdas*_beta3*_gammmas)/(_phis*_alpha3);\\ndouble _omgegasf = (_lambdas*_phif)/(_lambdaf);\\ndouble _omgegafs = _phis;\\ndouble _caon = 4/(1+1/caiss);\\ndouble _caoff = 0.01;\\ndouble _mode0on = 0.0008;\\ndouble _mode0off = 0.00018;\\n\\n//   +- comp_ltypeca\\ndouble _Czero1 = ltypeCzero;\\ndouble _Cone1 = ltypeCone;\\ndouble _Ctwo1 = ltypeCtwo;\\ndouble _Cthree1 = ltypeCthree;\\ndouble _IVf1 = ltypeIVf;\\ndouble _IVs1 = ltypeIVs;\\ndouble _O1 = 1-(_Czero1+_Cone1+_Ctwo1+_Cthree1+_IVf1+_IVs1);\\ndouble _dltypeCzero = dt*(_Cone1*_beta0-_Czero1*(_alpha0));\\ndouble _dltypeCone = dt*(_Ctwo1*_beta1+_Czero1*_alpha0-_Cone1*(_alpha1+_beta0));\\ndouble _dltypeCtwo = dt*(_Cone1*_alpha1+_Cthree1*_beta2-_Ctwo1*(_beta1+_alpha2));\\ndouble _dltypeCthree = dt*(_O1*_beta3+_IVf1*_omgegaf+_IVs1*_omgegas+_Ctwo1*_alpha2-_Cthree1*(_gammmaf+_gammmas+_alpha3+_beta2));\\ndouble _dltypeO = dt*(_IVf1*_lambdaf+_IVs1*_lambdas+_Cthree1*_alpha3-_O1*(_phif+_phis+_beta3));\\ndouble _dltypeIVf = dt*(_O1*_phif+_Cthree1*_gammmaf+_IVs1*_omgegasf-_IVf1*(_omgegaf+_lambdaf+_omgegafs));\\ndouble _dltypeIVs = dt*(_O1*_phis+_Cthree1*_gammmas+_IVf1*_omgegafs-_IVs1*(_omgegas+_lambdas+_omgegasf));\\ndouble _Czero2 = ltypeCzero+_dltypeCzero;\\ndouble _Cone2 = ltypeCone+_dltypeCone;\\ndouble _Ctwo2 = ltypeCtwo+_dltypeCtwo;\\ndouble _Cthree2 = ltypeCthree+_dltypeCthree;\\ndouble _IVf2 = ltypeIVf+_dltypeIVf;\\ndouble _IVs2 = ltypeIVs+_dltypeIVs;\\n_ltypeCzero = _Czero2;\\n_ltypeCone = _Cone2;\\n_ltypeCtwo = _Ctwo2;\\n_ltypeCthree = _Cthree2;\\n_ltypeIVf = _IVf2;\\n_ltypeIVs = _IVs2;\\n_ltypeO = 1-(_Czero2+_Cone2+_Ctwo2+_Cthree2+_IVf2+_IVs2);\\n\\n//   +- comp_Cacon\\ndouble _buffersss = 1/(1+(0.047*0.00087)/((0.00087+caiss)*(0.00087+caiss))+(2.124*0.127)/((0.127+caiss)*(0.127+caiss)));\\ndouble _idiffca = (caiss-cai)/(0.1/pow(3.0, (temp-310.0)/10.0));\\ndouble _dcaresspace = dt*_buffersss*(-(ilca-2*inacass)*1.5343538e-05/(7.60265422e-07*96485*2)+(irel*(1.82463701e-07/7.60265422e-07))-_idiffca);\\n_caiss = caiss+_dcaresspace;\\n\\ndouble _idiffna = (naiss-nai)/(0.1/pow(3.0, (temp-310.0)/10.0));\\ndouble _dnaresspace = dt*(-(3*inacass+ilcana)*1.5343538e-05/(7.60265422e-07*96485)-_idiffna);\\n_naiss = naiss+_dnaresspace;\\n\\ndouble _idiffk = (kiss-ki)/(0.1/pow(3.0, (temp-310.0)/10.0));\\ndouble _dkresspace = dt*(-ilcak*1.5343538e-05/(7.60265422e-07*96485)-_idiffk);\\n_kiss = kiss+_dkresspace;\\n\\n// comp_ltypesc\\ndouble _ibarca = 0.006615*2*2*((_v*96485*96485)/(8314*temp))*((0.01*_caiss*exp((2*(_v-0)*96485)/(8314*temp))-0.341*1.8)/(exp((2*(_v-0)*96485)/(8314*temp))-1));\\ndouble _ibarna = 8.265e-06*1*1*((_v*96485*96485)/(8314*temp))*((0.75*_naiss*exp((1*_v*96485)/(8314*temp))-0.75*130.0)/(exp((1*_v*96485)/(8314*temp))-1));\\ndouble _ibark = 2.363e-06*1*1*((_v*96485*96485)/(8314*temp))*((0.75*_kiss*exp((1*_v*96485)/(8314*temp))-0.75*4.5)/(exp((1*_v*96485)/(8314*temp))-1));\\n_fcasc = _caoff/(_caon+_caoff)-((_caoff/(_caon+_caoff))-fcasc)*exp(-dt/((1/(_caon+_caoff))/pow(3.0, (temp-310.0)/10.0)));\\n_fmode0 = _mode0off/(_mode0on+_mode0off)-((_mode0off/(_mode0on+_mode0off))-fmode0)*exp(-dt/(1/(_mode0on+_mode0off))/pow(3.0, (temp-310.0)/10.0));\\n_ilca = _ibarca*_fcasc*_fmode0*ltypeO*pow(2.96, (temp-310.0)/10.0);\\n_ilcana = _ibarna*_fcasc*_fmode0*ltypeO*pow(2.96, (temp-310.0)/10.0);\\n_ilcak = _ibark*_fcasc*_fmode0*ltypeO*pow(2.96, (temp-310.0)/10.0);\\n\\n// comp_icat\\ndouble _bss = 1/(1+exp(-(_v+14)/10.8));\\ndouble _taub = (3.7+6.1/(1+exp((_v+25)/4.5)))/pow(2.5, (temp-310.0)/10.0);\\ndouble _gss = 1/(1+exp((_v+60)/5.6));\\n_maskPosi = (_v <= 0)*1;\\n_maskNega = (_v > 0)*1;\\ndouble _taug = ((-0.875*_v+12)*_maskPosi + 12*_maskNega)/pow(2.5, (temp-310.0)/10.0);\\n_b = _bss - ( _bss - b )*exp(-dt/_taub);\\n_g = _gss - ( _gss - g )*exp(-dt/_taug);\\n\\ndouble _eca = (8314*temp/(2*96485))*log(1.8/cai);\\ndouble _gcat = 0.005*pow(2.5, (temp-310.0)/10.0);\\ndouble _icat = _gcat*_b*_b*_g*(_v-_eca);\\n\\n// comp_ikr\\ndouble _shift_inf_xr = -1.16*(temp-310.0);\\ndouble _ekr = ((8314*temp)/96485)*log(4.5/ki);\\n_maskPosi = (_v >= -5000.0+_shift_inf_xr)*1;\\n_maskNega = (_maskPosi == 0)*1;\\ndouble _xrss = (1/(1+exp(-(_v+21.5)/7.5)))*_maskPosi + 0;\\n\\n_maskA = (_v >= -5000.0+_shift_inf_xr)*1;\\n_maskA_bar = (_maskA == 0) * 1;\\n_maskB = (_v <= 4500.0+_shift_inf_xr)*1;\\n_maskB_bar = (_maskB == 0) * 1;\\ndouble _tauxr = ((1*(1/(0.00138*(_v-_shift_inf_xr+14.2)/(1-exp(-0.123*(_v-_shift_inf_xr+14.2)))+0.00061*(_v-_shift_inf_xr+38.9)/(exp(0.145*(_v-_shift_inf_xr+38.9))-1))))*_maskA*_maskB+0.16*_maskA*_maskB_bar+0.3*_maskA_bar*_maskB)/pow(6.25, (temp-310.0)/10.0);\\n_xr = _xrss-(_xrss-xr)*exp(-dt/_tauxr);\\ndouble _r = 1/(1+exp((_v+9)/18.4));\\ndouble _gkr = 0.0286349353064*pow(1.94, (temp-310.0)/10.0);\\ndouble _ikr = _gkr*_xr*_r*(_v-_ekr);\\n\\n// comp_iks\\ndouble _gks = (0.3031*(1+0.6/(1+pow((0.000038/cai),1.4))))*pow(2.2, (temp-310.0)/10.0);\\ndouble _eks = ((8314*temp)/96485)*log((4.5+0.01833*130.0)/(ki+0.01833*nai));\\ndouble _xs1ss = 1/(1+exp(-(_v-1.5)/16.7));\\ndouble _xs2ss = _xs1ss;\\ndouble _tauxs1 = (1/(0.0000719*(_v+30)/(1-exp(-0.148*(_v+30)))+0.000131*(_v+30)/(exp(0.0687*(_v+30))-1)))/pow(2.58, (temp-310.0)/10.0);\\ndouble _tauxs2 = 4*_tauxs1;\\n\\n_xs1 = _xs1ss-(_xs1ss-xs1)*exp(-dt/_tauxs1);\\n_xs2 = _xs2ss-(_xs2ss-xs2)*exp(-dt/_tauxs2);\\ndouble _iks = _gks*_xs1*_xs2*(_v-_eks);\\n\\n// comp_iki\\ndouble _eki = ((8314*temp)/96485)*log(4.5/ki);\\ndouble _aki = 1.02/(1+exp(0.2385*(_v-_eki-59.215)));\\ndouble _bki = (0.49124*exp(0.08032*(_v-_eki+5.476))+exp(0.06175*(_v-_eki-594.31)))/(1+exp(-0.5143*(_v-_eki+4.753)));\\n\\ndouble _kin = _aki/(_aki+_bki);\\ndouble _gki = 0.513489897661*pow(1.5, (temp-310.0)/10.0);\\ndouble _iki = _gki*_kin*(_v-_eki);\\n\\n// comp_ikp\\ndouble _ekp = _eki;\\ndouble _kp = 1/(1+exp((7.488-_v)/5.98));\\ndouble _gkp = 0.000552*pow(1.5, (temp-310.0)/10.0);\\ndouble _ikp = _gkp*_kp*(_v-_ekp);\\n\\n// comp_inaca\\n// Calculates Na-Ca Exchanger Current\\ndouble _inaca = (0.8*0.000225*exp((0.15-1)*_v*96485/(8314*temp))*((exp(_v*96485/(8314*temp))*nai*nai*nai*1.8 -1.5*130.0*130.0*130.0*cai)/(1+0.0001*exp((0.15-1)*_v*96485/(8314*temp))*(exp(_v*96485/(8314*temp))*nai*nai*nai*1.8+1.5*130.0*130.0*130.0*cai))))*pow(2.2, (temp-310.0)/10.0);\\n_inacass = (0.2*0.000225*exp((0.15-1)*_v*96485/(8314*temp))*((exp(_v*96485/(8314*temp))*_naiss*_naiss*_naiss*1.8-1.5*130.0*130.0*130.0*_caiss)/(1+0.0001*exp((0.15-1)*_v*96485/(8314*temp))*(exp(_v*96485/(8314*temp))*_naiss*_naiss*_naiss*1.8+1.5*130.0*130.0*130.0*_caiss))))*pow(2.2, (temp-310.0)/10.0);\\n\\n// comp_inak\\ndouble _fnak = 1/(1+0.1245*exp((-0.1*_v*96485)/(8314*temp))+0.0365*0.842983243246*exp((-_v*96485)/(8314*temp)));\\ndouble _inak = (2.25*_fnak*(1/(1+pow(10.0/nai,2.0)))*(4.5/(4.5+1.5)))*pow(1.87, (temp-310.0)/10.0);\\n\\n// comp_ipca\\ndouble _ipca = (1*(cai/(0.0005+cai))/(1+exp((-cai+0.00012)/0.00001)))*pow(1.5, (temp-310.0)/10.0);\\n\\n// comp_icab\\ndouble _ecan = ((8314*temp)/(2*96485))*log(1.8/cai);\\ndouble _icab = (0.003016*(_v-_ecan))*pow(1.5, (temp-310.0)/10.0);\\n\\n//def comp_inab\\ndouble _inab = (0.0002*(_v-_ena))*pow(1.5, (temp-310.0)/10.0);\\n\\n//def comp_it\\ndouble _naoint = _ina+_inab+_ilcana+3*_inak+3*_inaca+3*_inacass;\\ndouble _koint = _ikr+_iks+_iki+_ikp+_ilcak-2*_inak;\\ndouble _caiont = _ilca+_icab+_ipca+_icat-2*_inaca-2*_inacass;\\n_it = _naoint+_koint+_caiont+st;\\n/*\\n//def conc_nai\\ndouble _dnai = -dt*(((_naoint-3*_inacass-_ilcana)*1.5343538e-05)/(2.58490244e-05*1*96485)-_idiffna*(7.60265422e-07/2.58490244e-05));\\n_nai = _dnai + nai;\\n\\n//def conc_ki\\ndouble _dki = -dt*(((_koint-_ilcak+st)*1.5343538e-05)/(2.58490244e-05*1*96485)-_idiffk*(7.60265422e-07/2.58490244e-05));\\n_ki = _dki + ki;\\n\\n//def conc_nsr\\ndouble _ileak = 0.000583333333333*nsr*pow(3.0, (temp-310.0)/10.0);\\ndouble _iup = 0.017325*cai/(cai+0.00092)*pow(3.0, (temp-310.0)/10.0);\\ndouble _dnsr = dt*(_iup-_ileak-itr*1.82463701e-07/2.09833257e-06);\\n_nsr = nsr+_dnsr;\\n\\n//def comp_ryrrates\\ndouble C1_C2 = 1750*_caiss;\\ndouble C2_C3 = 5600*_caiss;\\ndouble C3_C4 = 5600*_caiss;\\ndouble C4_O1 = 5600*_caiss;\\ndouble I1_I2 = 1750*_caiss;\\ndouble I2_I3 = 5600*_caiss;\\ndouble I3_I4 = 5600*_caiss;\\ndouble I4_I5 = 5600*_caiss;\\ndouble C2_C1 = 5;\\ndouble C3_C2 = 2.625;\\ndouble C4_C3 = 1;\\ndouble O1_C4 = 6.25;\\ndouble I2_I1 = 5;\\ndouble I3_I2 = 2.625;\\ndouble I4_I3 = 1;\\ndouble I5_I4 = 6.25;\\ndouble C1_I1 = 0.4*_caiss;\\ndouble C2_I2 = 1.2*_caiss;\\ndouble C3_I3 = 2.8*_caiss;\\ndouble C4_I4 = 5.2*_caiss;\\ndouble O1_I5 = 8.4*_caiss;\\ndouble I1_C1 = 0.01/(1+pow((10*0.75/csqn),9.0));\\ndouble I2_C2 = 0.001/(1+pow((10*0.75/csqn),9.0));\\ndouble I3_C3 = 0.0001/(1+pow((10*0.75/csqn),9.0));\\ndouble I4_C4 = 0.00001/(1+pow((10*0.75/csqn),9.0));\\ndouble I5_O1 = 0.000001/(1+pow((10*0.75/csqn),9.0));\\n\\n//def comp_ryr\\ndouble _ryrCone1 = ryrCone;\\ndouble _ryrCtwo1 = ryrCtwo;\\ndouble _ryrCthree1 = ryrCthree;\\ndouble _ryrCfour1 = ryrCfour;\\ndouble _ryrOone1 = ryrOone;\\ndouble _ryrIone1 = ryrIone;\\ndouble _ryrItwo1 = ryrItwo;\\ndouble _ryrIthree1 = ryrIthree;\\ndouble _ryrIfour1 = ryrIfour;\\ndouble _ryrIfive1 = 1-(_ryrCone1+_ryrCtwo1+_ryrCthree1+_ryrCfour1+_ryrOone1+_ryrIone1+_ryrItwo1+_ryrIthree1+_ryrIfour1);\\ndouble _dryrCone = dt*(C2_C1*_ryrCtwo1+I1_C1*_ryrIone1-_ryrCone1*(C1_C2+C1_I1));\\ndouble _dryrCtwo = dt*(C1_C2*_ryrCone1+C3_C2*_ryrCthree1+I2_C2*_ryrItwo1-_ryrCtwo1*(C2_C1+C2_C3+C2_I2));\\ndouble _dryrCthree = dt*(C2_C3*_ryrCtwo1+C4_C3*_ryrCfour1+I3_C3*_ryrIthree1-_ryrCthree1*(C3_C2+C3_C4+C3_I3));\\ndouble _dryrCfour = dt*(O1_C4*_ryrOone1+C3_C4*_ryrCthree1+I4_C4*_ryrIfour1-_ryrCfour1*(C4_C3+C4_O1+C4_I4));\\ndouble _dryrOone = dt*(C4_O1*_ryrCfour1+I5_O1*_ryrIfive1-_ryrOone1*(O1_I5+O1_C4));\\ndouble _dryrIone = dt*(C1_I1*_ryrCone1+I2_I1*_ryrItwo1-_ryrIone1*(I1_C1+I1_I2));\\ndouble _dryrItwo = dt*(C2_I2*_ryrCtwo1+I1_I2*_ryrIone1+I3_I2*_ryrIthree1-_ryrItwo1*(I2_C2+I2_I1+I2_I3));\\ndouble _dryrIthree = dt*(C3_I3*_ryrCthree1+I2_I3*_ryrItwo1+I4_I3*_ryrIfour1-_ryrIthree1*(I3_C3+I3_I2+I3_I4));\\ndouble _dryrIfour = dt*(C4_I4*_ryrCfour1+I3_I4*_ryrIthree1+I5_I4*_ryrIfive1-_ryrIfour1*(I4_C4+I4_I3+I4_I5));\\ndouble _ryrCone2 = ryrCone     +_dryrCone;\\ndouble _ryrCtwo2 = ryrCtwo     +_dryrCtwo;\\ndouble _ryrCthree2 = ryrCthree +_dryrCthree;\\ndouble _ryrCfour2 = ryrCfour   +_dryrCfour;\\ndouble _ryrOone2 = ryrOone     +_dryrOone;\\ndouble _ryrIone2 = ryrIone     +_dryrIone;\\ndouble _ryrItwo2 = ryrItwo     +_dryrItwo;\\ndouble _ryrIthree2 = ryrIthree +_dryrIthree;\\ndouble _ryrIfour2 = ryrIfour   +_dryrIfour;\\n_ryrCone   = _ryrCone2;\\n_ryrCtwo   = _ryrCtwo2;\\n_ryrCthree = _ryrCthree2;\\n_ryrCfour  = _ryrCfour2;\\n_ryrOone   = _ryrOone2;\\n_ryrIone   = _ryrIone2;\\n_ryrItwo   = _ryrItwo2;\\n_ryrIthree = _ryrIthree2;\\n_ryrIfour  = _ryrIfour2;\\n_ryrIfive = 1-(_ryrCone2+_ryrCtwo2+_ryrCthree2+_ryrCfour2+_ryrOone2+_ryrIone2+_ryrItwo2+_ryrIthree2+_ryrIfour2);\\n\\n//def conc_jsr\\ndouble _expArg = (5.3-jsr)/0.001;\\n_maskPosi = (_expArg <= 709)*1;\\n_maskNega = (_maskPosi == 0)*1;\\ndouble _xpArg = _expArg*_maskPosi + 709*_maskNega;\\ndouble _sponrelss = 25/(1+exp(_expArg));\\n_sponrel = _sponrelss-(_sponrelss-sponrel)*exp(-dt/(125/pow(3.0, (temp-310.0)/10.0)));\\ndouble _gradedrel = (1/(1+exp((20+_ilca)/6))-0.034445);\\ndouble _vgainofrel = (1+exp(((0.015*_ibarca)+1.25)/0.75));\\ndouble _vg = _gradedrel/_vgainofrel;\\ndouble _grel = 250*(_vg+_sponrel)*pow(1.68, (temp-310.0)/10.0);\\n_irel = _grel*(ryrOone)*(jsr-_caiss);\\n_csqn = 10*(jsr/(jsr+0.8));\\n\\ndouble _buffersjsr = 1/(1+(10*0.8/(pow(0.8+jsr,2.0))));\\ndouble _djsr = dt*_buffersjsr*(itr-_irel);\\n_jsr = jsr+_djsr;\\n\\n//def calc_itr\\n_itr = (_nsr-_jsr)/(120/pow(3.0, (temp-310.0)/10.0));\\n\\n//def conc_cai\\ndouble _buffersmyo = 1/(1+(0.07*0.0005)/((0.0005+cai)*(0.0005+cai))+(0.05*0.00238)/((0.00238+cai)*(0.00238+cai)));\\ndouble _dcai = -dt*_buffersmyo*((((_caiont-_ilca+2*_inacass)*1.5343538e-05)/(2.58490244e-05*2*96485))+((_iup-_ileak)*(2.09833257e-06/2.58490244e-05))-_idiffca*(7.60265422e-07/2.58490244e-05));\\n_cai = cai+_dcai;\\n\\n// Membrane voltage update\\n_v -= _it*dt;\\n\\n// unmodified return variables\\n_dt = dt;\\n_st = st;\\n_temp = temp;\\n*/'"
      ]
     },
     "execution_count": 83,
     "metadata": {},
     "output_type": "execute_result"
    }
   ],
   "source": [
    "open(model_l.elemwise_path).read().format(**model_l.const)"
   ]
  },
  {
   "cell_type": "code",
   "execution_count": 34,
   "metadata": {
    "collapsed": true
   },
   "outputs": [],
   "source": [
    "string_args = ''\n",
    "string_rets = ''\n",
    "\n",
    "for i, key in enumerate(model_c.params) :\n",
    "    string_args += 'T {0}, '.format(key)\n",
    "    string_rets += 'T _{0}, '.format(key)\n",
    "string_args = string_args.rstrip(', ')\n",
    "string_rets = string_rets.rstrip(', ')"
   ]
  },
  {
   "cell_type": "code",
   "execution_count": 52,
   "metadata": {
    "collapsed": false
   },
   "outputs": [],
   "source": [
    "elemwise=open(model_c.elemwise_path).read().format(**model_c.const)"
   ]
  },
  {
   "cell_type": "code",
   "execution_count": 53,
   "metadata": {
    "collapsed": false
   },
   "outputs": [
    {
     "data": {
      "text/plain": [
       "(array([[-81.91649124]]),\n",
       " array([[ 0.01]]),\n",
       " array([[ 0.]]),\n",
       " array([[ 11.19995156]]),\n",
       " array([[ 138.99999448]]),\n",
       " array([[ 0.00010197]]),\n",
       " array([[ -2.66421772e-05]]),\n",
       " array([[-0.09898967]]),\n",
       " array([[ 0.34829239]]),\n",
       " array([[ 0.25756643]]),\n",
       " array([[-0.10733012]]),\n",
       " array([[  6.70592743e-06]]),\n",
       " array([[ 0.00036043]]),\n",
       " array([[  3.70461483e-05]]),\n",
       " array([[  4.89992117e-09]]),\n",
       " array([[ 0.02617063]]),\n",
       " array([[-0.00192119]]),\n",
       " array([[ 0.0029022]]),\n",
       " array([[ 0.96500013]]),\n",
       " array([[ 0.97799982]]),\n",
       " array([[ 0.00013698]]),\n",
       " array([[ 0.99983699]]),\n",
       " array([[ 0.0187]]),\n",
       " array([[  3.28999978e-05]]),\n",
       " array([[ 0.03040001]]),\n",
       " array([[ 0.99900019]]),\n",
       " array([[ 0.00495998]]),\n",
       " array([[ 0.999]]),\n",
       " array([[ 0.77499999]]),\n",
       " array([[ 0.]]),\n",
       " array([[ 1.49]]),\n",
       " array([[ 1.49000002]]),\n",
       " array([[ 0.01186047]]),\n",
       " array([[ 0.00205479]]),\n",
       " array([[  3.33439498e-112]]),\n",
       " array([[ 1.]]),\n",
       " array([[ 0.99900869]]),\n",
       " array([[ 0.02540094]]))"
      ]
     },
     "execution_count": 53,
     "metadata": {},
     "output_type": "execute_result"
    }
   ],
   "source": [
    "cuda.elementwise(string_args,\n",
    "                 string_rets,\n",
    "                 elemwise,\n",
    "                 'luorudy')(*model_c.state)"
   ]
  },
  {
   "cell_type": "code",
   "execution_count": null,
   "metadata": {
    "collapsed": true
   },
   "outputs": [],
   "source": []
  }
 ],
 "metadata": {
  "kernelspec": {
   "display_name": "Python 2",
   "language": "python",
   "name": "python2"
  },
  "language_info": {
   "codemirror_mode": {
    "name": "ipython",
    "version": 2
   },
   "file_extension": ".py",
   "mimetype": "text/x-python",
   "name": "python",
   "nbconvert_exporter": "python",
   "pygments_lexer": "ipython2",
   "version": "2.7.15"
  }
 },
 "nbformat": 4,
 "nbformat_minor": 2
}
