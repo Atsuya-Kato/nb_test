{
 "cells": [
  {
   "cell_type": "code",
   "execution_count": 6,
   "metadata": {
    "collapsed": false
   },
   "outputs": [
    {
     "name": "stdout",
     "output_type": "stream",
     "text": [
      "    sigma_l_i = 1.74*0.5                  # (mS/cm)\n",
      "    sigma_t_i    = 0.19                  # (mS/cm)\n",
      "    sigma_l_e = 6.25*0.5                  # (mS/cm)\n",
      "    sigma_t_e    = 2.36                  # (mS/cm)\n"
     ]
    }
   ],
   "source": [
    "! cp elecpy/elecpy.py ./elecpy.py.bak\n",
    "! sed -i s/'sigma_l_i * = 1.74'/'sigma_l_i = 1.74*0.5'/ elecpy/elecpy.py\n",
    "! sed -i s/'sigma_l_e * = 6.25'/'sigma_l_e = 6.25*0.5'/ elecpy/elecpy.py\n",
    "! cat elecpy/elecpy.py | grep 'sigma_l_i * = '\n",
    "! cat elecpy/elecpy.py | grep 'sigma_t_i * = '\n",
    "! cat elecpy/elecpy.py | grep 'sigma_l_e * = '\n",
    "! cat elecpy/elecpy.py | grep 'sigma_t_e * = '\n"
   ]
  },
  {
   "cell_type": "code",
   "execution_count": 7,
   "metadata": {
    "collapsed": false
   },
   "outputs": [
    {
     "name": "stderr",
     "output_type": "stream",
     "text": [
      "pyculib:1: ImportWarning: Numba version too old; expecting 0.33.0\n"
     ]
    }
   ],
   "source": [
    "import os, sys, json, glob\n",
    "import numpy as np\n",
    "import matplotlib.pyplot as plt\n",
    "from datetime import datetime as dt\n",
    "from matplotlib import animation, rc\n",
    "from IPython.display import HTML\n",
    "\n",
    "from elecpy.simulator_monodomain import MonodomainSimulator\n",
    "from elecpy.util.cmap_bipolar import bipolar\n",
    "from elecpy.util.loader import Loader"
   ]
  },
  {
   "cell_type": "code",
   "execution_count": 8,
   "metadata": {
    "collapsed": true
   },
   "outputs": [],
   "source": [
    "sim_params= {\n",
    "    'cell_type': 'mahajan',\n",
    "    'geometory': {\n",
    "        'ds': 0.015, 'height': 400, 'width': 400\n",
    "    },\n",
    "    'log': {\n",
    "        'cnt': 200,\n",
    "        'path': '/mnt/Omer/Project/07.DeepElectrodeMapping/kato/20190807_3'\n",
    "    },\n",
    "    'restart': {'count': 2950,\n",
    "    'source': '/mnt/Omer/Project/07.DeepElectrodeMapping/kato/2019_0806_2'},\n",
    "    'stimulation': {\n",
    "    },\n",
    "    'time': {\n",
    "        u'end': 1000,\n",
    "        u'udt': 0.005\n",
    "    }\n",
    "}"
   ]
  },
  {
   "cell_type": "code",
   "execution_count": null,
   "metadata": {
    "collapsed": false
   },
   "outputs": [
    {
     "name": "stdout",
     "output_type": "stream",
     "text": [
      "elecpy simulation start!\n",
      "Stimulation settings ...done\n",
      "Allocating data... ...done\n",
      "Initializing data... ...done\n",
      "Mask settings... ...done\n",
      "Building PDE system ... ...done\n",
      "Main loop start!\n",
      "------------------427.0/1000ms"
     ]
    }
   ],
   "source": [
    "step = MonodomainSimulator(sim_params).step()\n",
    "out=[]\n",
    "while True:\n",
    "    img = step.next()\n",
    "    if img is False: break\n",
    "    out.append(np.copy(img))\n",
    "del(step)"
   ]
  },
  {
   "cell_type": "code",
   "execution_count": null,
   "metadata": {
    "collapsed": true
   },
   "outputs": [],
   "source": [
    "fig = plt.figure()\n",
    "plt.axis('off')\n",
    "\n",
    "ims = []\n",
    "\n",
    "for img in out:\n",
    "    im = plt.imshow(\n",
    "        img.reshape(400,400),\n",
    "        vmin = -100.0, vmax = 20.0,\n",
    "        cmap=bipolar(neutral=0, lutsize=1024),\n",
    "        interpolation='nearest')\n",
    "    ims.append([im])\n",
    "\n",
    "ani = animation.ArtistAnimation(fig, ims)\n",
    "#ani.save('anim.gif', writer=\"imagemagick\")\n",
    "#ani.save('anim.mp4', writer=\"ffmpeg\")\n",
    "#plt.show()\n",
    "\n",
    "HTML(ani.to_html5_video())"
   ]
  },
  {
   "cell_type": "code",
   "execution_count": 4,
   "metadata": {
    "collapsed": true
   },
   "outputs": [],
   "source": [
    "! cp ./elecpy.py.bak elecpy/elecpy.py"
   ]
  }
 ],
 "metadata": {
  "kernelspec": {
   "display_name": "Python 2",
   "language": "python",
   "name": "python2"
  },
  "language_info": {
   "codemirror_mode": {
    "name": "ipython",
    "version": 2
   },
   "file_extension": ".py",
   "mimetype": "text/x-python",
   "name": "python",
   "nbconvert_exporter": "python",
   "pygments_lexer": "ipython2",
   "version": "2.7.15"
  }
 },
 "nbformat": 4,
 "nbformat_minor": 2
}
